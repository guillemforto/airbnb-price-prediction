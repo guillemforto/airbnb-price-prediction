{
 "cells": [
  {
   "cell_type": "markdown",
   "metadata": {},
   "source": [
    "# Airbnb price prediction"
   ]
  },
  {
   "cell_type": "code",
   "execution_count": 1,
   "metadata": {},
   "outputs": [
    {
     "name": "stderr",
     "output_type": "stream",
     "text": [
      "Using TensorFlow backend.\n"
     ]
    }
   ],
   "source": [
    "import pandas as pd\n",
    "import numpy as np\n",
    "from statistics import median\n",
    "import math\n",
    "from math import sin, cos, sqrt, atan2, radians\n",
    "from scipy import stats\n",
    "from random import sample\n",
    "from collections import Counter\n",
    "\n",
    "import matplotlib.pyplot as plt\n",
    "from pylab import plot, axes\n",
    "import seaborn as sns\n",
    "\n",
    "# for text treatment\n",
    "import unidecode\n",
    "from stemming.porter2 import stem\n",
    "\n",
    "# for exportation\n",
    "import csv\n",
    "\n",
    "from datetime import datetime, timedelta\n",
    "\n",
    "# sklearn\n",
    "from sklearn.preprocessing import StandardScaler, LabelEncoder\n",
    "from sklearn.model_selection import train_test_split, cross_val_score, GridSearchCV\n",
    "from sklearn.feature_selection import SelectFromModel\n",
    "from sklearn.metrics import mean_squared_error\n",
    "import category_encoders as ce\n",
    "\n",
    "# Boosting algorithms\n",
    "import xgboost as xgb\n",
    "import catboost as cb\n",
    "\n",
    "# NN\n",
    "from tensorflow import keras\n",
    "from keras import optimizers, regularizers, callbacks\n",
    "from keras.models import Sequential\n",
    "from keras.layers import Dense, Dropout, Activation, BatchNormalization\n",
    "from keras.utils.vis_utils import model_to_dot"
   ]
  },
  {
   "cell_type": "markdown",
   "metadata": {},
   "source": [
    "# 0. Importing the data"
   ]
  },
  {
   "cell_type": "markdown",
   "metadata": {},
   "source": [
    "Two files:\n",
    "- train_airbnb.csv contains the initial basic features available on Kaggle and the variable price from which to learn\n",
    "- test_airbnb.csv contains new observations whose price is unknown"
   ]
  },
  {
   "cell_type": "code",
   "execution_count": 142,
   "metadata": {},
   "outputs": [],
   "source": [
    "train = pd.read_csv(\"train_airbnb.csv\")\n",
    "X_to_predict = pd.read_csv(\"test_airbnb.csv\")\n",
    "\n",
    "indices = X_to_predict.id.to_list()\n",
    "\n",
    "train.set_index('id', inplace=True)\n",
    "X_to_predict.set_index('id', inplace=True)"
   ]
  },
  {
   "cell_type": "markdown",
   "metadata": {},
   "source": [
    "The train datasets contains both the predictor variables (X_train) and the price (Y_train). To submit to Kaggle we will need to predict on X_to_predict, using what we have learned on train, so we will need X_to_predict to have the same columns as X_train (X_to_predict does not contain the price). We won't group them because in some cases we will be doing some operations (e.g. dropping rows) on train that we don't want to do on X_to_predict."
   ]
  },
  {
   "cell_type": "code",
   "execution_count": 143,
   "metadata": {
    "scrolled": true
   },
   "outputs": [
    {
     "name": "stdout",
     "output_type": "stream",
     "text": [
      "The train dataset contains 44197 Airbnb listings and the test one contains 10886.\n",
      "In total there are 57 predictors.\n"
     ]
    },
    {
     "data": {
      "text/html": [
       "<div>\n",
       "<style scoped>\n",
       "    .dataframe tbody tr th:only-of-type {\n",
       "        vertical-align: middle;\n",
       "    }\n",
       "\n",
       "    .dataframe tbody tr th {\n",
       "        vertical-align: top;\n",
       "    }\n",
       "\n",
       "    .dataframe thead th {\n",
       "        text-align: right;\n",
       "    }\n",
       "</style>\n",
       "<table border=\"1\" class=\"dataframe\">\n",
       "  <thead>\n",
       "    <tr style=\"text-align: right;\">\n",
       "      <th></th>\n",
       "      <th>name</th>\n",
       "      <th>description</th>\n",
       "      <th>neighborhood_overview</th>\n",
       "      <th>notes</th>\n",
       "      <th>transit</th>\n",
       "      <th>access</th>\n",
       "      <th>interaction</th>\n",
       "      <th>house_rules</th>\n",
       "      <th>host_id</th>\n",
       "      <th>host_since</th>\n",
       "      <th>host_seniority</th>\n",
       "      <th>host_response_time</th>\n",
       "      <th>host_response_rate</th>\n",
       "      <th>host_listings_count</th>\n",
       "      <th>host_verifications</th>\n",
       "      <th>neighbourhood_cleansed</th>\n",
       "      <th>city</th>\n",
       "      <th>zipcode</th>\n",
       "      <th>country</th>\n",
       "      <th>latitude_airbnb</th>\n",
       "      <th>longitude_airbnb</th>\n",
       "      <th>property_type</th>\n",
       "      <th>room_type</th>\n",
       "      <th>accommodates</th>\n",
       "      <th>bathrooms</th>\n",
       "      <th>bedrooms</th>\n",
       "      <th>beds</th>\n",
       "      <th>bed_type</th>\n",
       "      <th>amenities</th>\n",
       "      <th>price</th>\n",
       "      <th>security_deposit</th>\n",
       "      <th>cleaning_fee</th>\n",
       "      <th>guests_included</th>\n",
       "      <th>extra_people</th>\n",
       "      <th>minimum_nights</th>\n",
       "      <th>maximum_nights</th>\n",
       "      <th>calendar_updated</th>\n",
       "      <th>availability_30</th>\n",
       "      <th>availability_60</th>\n",
       "      <th>availability_90</th>\n",
       "      <th>availability_365</th>\n",
       "      <th>number_of_reviews</th>\n",
       "      <th>first_review</th>\n",
       "      <th>last_review</th>\n",
       "      <th>review_scores_rating</th>\n",
       "      <th>review_scores_accuracy</th>\n",
       "      <th>review_scores_cleanliness</th>\n",
       "      <th>review_scores_checkin</th>\n",
       "      <th>review_scores_communication</th>\n",
       "      <th>review_scores_location</th>\n",
       "      <th>review_scores_value</th>\n",
       "      <th>cancellation_policy</th>\n",
       "      <th>reviews_per_month</th>\n",
       "      <th>geolocation</th>\n",
       "      <th>features</th>\n",
       "      <th>geopoint_announce</th>\n",
       "      <th>department</th>\n",
       "    </tr>\n",
       "    <tr>\n",
       "      <th>id</th>\n",
       "      <th></th>\n",
       "      <th></th>\n",
       "      <th></th>\n",
       "      <th></th>\n",
       "      <th></th>\n",
       "      <th></th>\n",
       "      <th></th>\n",
       "      <th></th>\n",
       "      <th></th>\n",
       "      <th></th>\n",
       "      <th></th>\n",
       "      <th></th>\n",
       "      <th></th>\n",
       "      <th></th>\n",
       "      <th></th>\n",
       "      <th></th>\n",
       "      <th></th>\n",
       "      <th></th>\n",
       "      <th></th>\n",
       "      <th></th>\n",
       "      <th></th>\n",
       "      <th></th>\n",
       "      <th></th>\n",
       "      <th></th>\n",
       "      <th></th>\n",
       "      <th></th>\n",
       "      <th></th>\n",
       "      <th></th>\n",
       "      <th></th>\n",
       "      <th></th>\n",
       "      <th></th>\n",
       "      <th></th>\n",
       "      <th></th>\n",
       "      <th></th>\n",
       "      <th></th>\n",
       "      <th></th>\n",
       "      <th></th>\n",
       "      <th></th>\n",
       "      <th></th>\n",
       "      <th></th>\n",
       "      <th></th>\n",
       "      <th></th>\n",
       "      <th></th>\n",
       "      <th></th>\n",
       "      <th></th>\n",
       "      <th></th>\n",
       "      <th></th>\n",
       "      <th></th>\n",
       "      <th></th>\n",
       "      <th></th>\n",
       "      <th></th>\n",
       "      <th></th>\n",
       "      <th></th>\n",
       "      <th></th>\n",
       "      <th></th>\n",
       "      <th></th>\n",
       "      <th></th>\n",
       "    </tr>\n",
       "  </thead>\n",
       "  <tbody>\n",
       "    <tr>\n",
       "      <th>10534791</th>\n",
       "      <td>Appartement 2P pour 4 pers. BERCY</td>\n",
       "      <td>Cet appartement est idéalement situé à 10 minu...</td>\n",
       "      <td>Le quartier est animé sans être étouffant. Il ...</td>\n",
       "      <td>NaN</td>\n",
       "      <td>Lignes de métro 6 et 8 à moins de 3 minutes.  ...</td>\n",
       "      <td>Vous aurez accès à l'ensemble du logement.</td>\n",
       "      <td>NaN</td>\n",
       "      <td>NaN</td>\n",
       "      <td>22523453</td>\n",
       "      <td>2014-10-14T00:00:00.000Z</td>\n",
       "      <td>1805.0</td>\n",
       "      <td>NaN</td>\n",
       "      <td>NaN</td>\n",
       "      <td>1.0</td>\n",
       "      <td>email,phone,reviews</td>\n",
       "      <td>Reuilly</td>\n",
       "      <td>Paris</td>\n",
       "      <td>75012.0</td>\n",
       "      <td>France</td>\n",
       "      <td>48.841013</td>\n",
       "      <td>2.392880</td>\n",
       "      <td>Apartment</td>\n",
       "      <td>Entire home/apt</td>\n",
       "      <td>4.0</td>\n",
       "      <td>1.0</td>\n",
       "      <td>1.0</td>\n",
       "      <td>2.0</td>\n",
       "      <td>Real Bed</td>\n",
       "      <td>TV,Internet,Wireless Internet,Kitchen,Buzzer/w...</td>\n",
       "      <td>55.0</td>\n",
       "      <td>0_no_deposit</td>\n",
       "      <td>1_]0-30]</td>\n",
       "      <td>1.0</td>\n",
       "      <td>0.0</td>\n",
       "      <td>3.0</td>\n",
       "      <td>1125.0</td>\n",
       "      <td>3 weeks ago</td>\n",
       "      <td>7.0</td>\n",
       "      <td>11.0</td>\n",
       "      <td>11.0</td>\n",
       "      <td>11.0</td>\n",
       "      <td>2.0</td>\n",
       "      <td>2016-03-30</td>\n",
       "      <td>2016-06-20</td>\n",
       "      <td>80.0</td>\n",
       "      <td>7.0</td>\n",
       "      <td>8.0</td>\n",
       "      <td>7.0</td>\n",
       "      <td>8.0</td>\n",
       "      <td>10.0</td>\n",
       "      <td>8.0</td>\n",
       "      <td>strict</td>\n",
       "      <td>0.16</td>\n",
       "      <td>48.8410132928,2.39288035231</td>\n",
       "      <td>Host Has Profile Pic</td>\n",
       "      <td>POINT(2.3928803523142053 48.841013292835235)</td>\n",
       "      <td>Paris</td>\n",
       "    </tr>\n",
       "    <tr>\n",
       "      <th>16001259</th>\n",
       "      <td>Cosy 2 pièces in Paris 12ème, Porte Dorée</td>\n",
       "      <td>Mon logement est proche du bois de Vincennes, ...</td>\n",
       "      <td>NaN</td>\n",
       "      <td>NaN</td>\n",
       "      <td>NaN</td>\n",
       "      <td>NaN</td>\n",
       "      <td>NaN</td>\n",
       "      <td>NaN</td>\n",
       "      <td>37202116</td>\n",
       "      <td>2015-07-01T00:00:00.000Z</td>\n",
       "      <td>1545.0</td>\n",
       "      <td>NaN</td>\n",
       "      <td>NaN</td>\n",
       "      <td>1.0</td>\n",
       "      <td>phone</td>\n",
       "      <td>Reuilly</td>\n",
       "      <td>Paris</td>\n",
       "      <td>75012.0</td>\n",
       "      <td>France</td>\n",
       "      <td>48.840806</td>\n",
       "      <td>2.408244</td>\n",
       "      <td>Apartment</td>\n",
       "      <td>Entire home/apt</td>\n",
       "      <td>4.0</td>\n",
       "      <td>1.0</td>\n",
       "      <td>1.0</td>\n",
       "      <td>2.0</td>\n",
       "      <td>Real Bed</td>\n",
       "      <td>TV,Wireless Internet,Kitchen,Smoking allowed,E...</td>\n",
       "      <td>53.0</td>\n",
       "      <td>0_no_deposit</td>\n",
       "      <td>0_no_deposit</td>\n",
       "      <td>1.0</td>\n",
       "      <td>0.0</td>\n",
       "      <td>7.0</td>\n",
       "      <td>14.0</td>\n",
       "      <td>5 months ago</td>\n",
       "      <td>0.0</td>\n",
       "      <td>0.0</td>\n",
       "      <td>0.0</td>\n",
       "      <td>0.0</td>\n",
       "      <td>0.0</td>\n",
       "      <td>NaN</td>\n",
       "      <td>NaN</td>\n",
       "      <td>NaN</td>\n",
       "      <td>NaN</td>\n",
       "      <td>NaN</td>\n",
       "      <td>NaN</td>\n",
       "      <td>NaN</td>\n",
       "      <td>NaN</td>\n",
       "      <td>NaN</td>\n",
       "      <td>flexible</td>\n",
       "      <td>NaN</td>\n",
       "      <td>48.8408064183,2.40824414207</td>\n",
       "      <td>Host Has Profile Pic</td>\n",
       "      <td>POINT(2.4082441420748024 48.84080641832087)</td>\n",
       "      <td>Paris</td>\n",
       "    </tr>\n",
       "  </tbody>\n",
       "</table>\n",
       "</div>"
      ],
      "text/plain": [
       "                                               name  \\\n",
       "id                                                    \n",
       "10534791          Appartement 2P pour 4 pers. BERCY   \n",
       "16001259  Cosy 2 pièces in Paris 12ème, Porte Dorée   \n",
       "\n",
       "                                                description  \\\n",
       "id                                                            \n",
       "10534791  Cet appartement est idéalement situé à 10 minu...   \n",
       "16001259  Mon logement est proche du bois de Vincennes, ...   \n",
       "\n",
       "                                      neighborhood_overview notes  \\\n",
       "id                                                                  \n",
       "10534791  Le quartier est animé sans être étouffant. Il ...   NaN   \n",
       "16001259                                                NaN   NaN   \n",
       "\n",
       "                                                    transit  \\\n",
       "id                                                            \n",
       "10534791  Lignes de métro 6 et 8 à moins de 3 minutes.  ...   \n",
       "16001259                                                NaN   \n",
       "\n",
       "                                              access interaction house_rules  \\\n",
       "id                                                                             \n",
       "10534791  Vous aurez accès à l'ensemble du logement.         NaN         NaN   \n",
       "16001259                                         NaN         NaN         NaN   \n",
       "\n",
       "           host_id                host_since  host_seniority  \\\n",
       "id                                                             \n",
       "10534791  22523453  2014-10-14T00:00:00.000Z          1805.0   \n",
       "16001259  37202116  2015-07-01T00:00:00.000Z          1545.0   \n",
       "\n",
       "         host_response_time  host_response_rate  host_listings_count  \\\n",
       "id                                                                     \n",
       "10534791                NaN                 NaN                  1.0   \n",
       "16001259                NaN                 NaN                  1.0   \n",
       "\n",
       "           host_verifications neighbourhood_cleansed   city  zipcode country  \\\n",
       "id                                                                             \n",
       "10534791  email,phone,reviews                Reuilly  Paris  75012.0  France   \n",
       "16001259                phone                Reuilly  Paris  75012.0  France   \n",
       "\n",
       "          latitude_airbnb  longitude_airbnb property_type        room_type  \\\n",
       "id                                                                           \n",
       "10534791        48.841013          2.392880     Apartment  Entire home/apt   \n",
       "16001259        48.840806          2.408244     Apartment  Entire home/apt   \n",
       "\n",
       "          accommodates  bathrooms  bedrooms  beds  bed_type  \\\n",
       "id                                                            \n",
       "10534791           4.0        1.0       1.0   2.0  Real Bed   \n",
       "16001259           4.0        1.0       1.0   2.0  Real Bed   \n",
       "\n",
       "                                                  amenities  price  \\\n",
       "id                                                                   \n",
       "10534791  TV,Internet,Wireless Internet,Kitchen,Buzzer/w...   55.0   \n",
       "16001259  TV,Wireless Internet,Kitchen,Smoking allowed,E...   53.0   \n",
       "\n",
       "         security_deposit  cleaning_fee  guests_included  extra_people  \\\n",
       "id                                                                       \n",
       "10534791     0_no_deposit      1_]0-30]              1.0           0.0   \n",
       "16001259     0_no_deposit  0_no_deposit              1.0           0.0   \n",
       "\n",
       "          minimum_nights  maximum_nights calendar_updated  availability_30  \\\n",
       "id                                                                           \n",
       "10534791             3.0          1125.0      3 weeks ago              7.0   \n",
       "16001259             7.0            14.0     5 months ago              0.0   \n",
       "\n",
       "          availability_60  availability_90  availability_365  \\\n",
       "id                                                             \n",
       "10534791             11.0             11.0              11.0   \n",
       "16001259              0.0              0.0               0.0   \n",
       "\n",
       "          number_of_reviews first_review last_review  review_scores_rating  \\\n",
       "id                                                                           \n",
       "10534791                2.0   2016-03-30  2016-06-20                  80.0   \n",
       "16001259                0.0          NaN         NaN                   NaN   \n",
       "\n",
       "          review_scores_accuracy  review_scores_cleanliness  \\\n",
       "id                                                            \n",
       "10534791                     7.0                        8.0   \n",
       "16001259                     NaN                        NaN   \n",
       "\n",
       "          review_scores_checkin  review_scores_communication  \\\n",
       "id                                                             \n",
       "10534791                    7.0                          8.0   \n",
       "16001259                    NaN                          NaN   \n",
       "\n",
       "          review_scores_location  review_scores_value cancellation_policy  \\\n",
       "id                                                                          \n",
       "10534791                    10.0                  8.0              strict   \n",
       "16001259                     NaN                  NaN            flexible   \n",
       "\n",
       "          reviews_per_month                  geolocation  \\\n",
       "id                                                         \n",
       "10534791               0.16  48.8410132928,2.39288035231   \n",
       "16001259                NaN  48.8408064183,2.40824414207   \n",
       "\n",
       "                      features                             geopoint_announce  \\\n",
       "id                                                                             \n",
       "10534791  Host Has Profile Pic  POINT(2.3928803523142053 48.841013292835235)   \n",
       "16001259  Host Has Profile Pic   POINT(2.4082441420748024 48.84080641832087)   \n",
       "\n",
       "         department  \n",
       "id                   \n",
       "10534791      Paris  \n",
       "16001259      Paris  "
      ]
     },
     "execution_count": 143,
     "metadata": {},
     "output_type": "execute_result"
    }
   ],
   "source": [
    "# Have a look at the first rows\n",
    "print(f\"The train dataset contains {len(train)} Airbnb listings and the test one contains {len(X_to_predict)}.\")\n",
    "print(f\"In total there are {len(train.columns)} predictors.\")\n",
    "\n",
    "# Set options for visualisation\n",
    "pd.set_option('display.max_columns', len(train.columns)) # to see all the columns\n",
    "pd.set_option('display.max_rows', 10000) # to see more lines\n",
    "\n",
    "train.head(2)"
   ]
  },
  {
   "cell_type": "code",
   "execution_count": 144,
   "metadata": {},
   "outputs": [
    {
     "data": {
      "text/plain": [
       "Index(['name', 'description', 'neighborhood_overview', 'notes', 'transit',\n",
       "       'access', 'interaction', 'house_rules', 'host_id', 'host_since',\n",
       "       'host_seniority', 'host_response_time', 'host_response_rate',\n",
       "       'host_listings_count', 'host_verifications', 'neighbourhood_cleansed',\n",
       "       'city', 'zipcode', 'country', 'latitude_airbnb', 'longitude_airbnb',\n",
       "       'property_type', 'room_type', 'accommodates', 'bathrooms', 'bedrooms',\n",
       "       'beds', 'bed_type', 'amenities', 'price', 'security_deposit',\n",
       "       'cleaning_fee', 'guests_included', 'extra_people', 'minimum_nights',\n",
       "       'maximum_nights', 'calendar_updated', 'availability_30',\n",
       "       'availability_60', 'availability_90', 'availability_365',\n",
       "       'number_of_reviews', 'first_review', 'last_review',\n",
       "       'review_scores_rating', 'review_scores_accuracy',\n",
       "       'review_scores_cleanliness', 'review_scores_checkin',\n",
       "       'review_scores_communication', 'review_scores_location',\n",
       "       'review_scores_value', 'cancellation_policy', 'reviews_per_month',\n",
       "       'geolocation', 'features', 'geopoint_announce', 'department'],\n",
       "      dtype='object')"
      ]
     },
     "execution_count": 144,
     "metadata": {},
     "output_type": "execute_result"
    }
   ],
   "source": [
    "train.columns"
   ]
  },
  {
   "cell_type": "code",
   "execution_count": 145,
   "metadata": {},
   "outputs": [
    {
     "name": "stdout",
     "output_type": "stream",
     "text": [
      "The data was scrapped on the 2019-09-23 00:00:00\n"
     ]
    }
   ],
   "source": [
    "# With host_since and host_seniority, we can know that the data was scrapped on September the 23rd of 2019\n",
    "scrapping_date = pd.to_datetime(pd.to_datetime(train.host_since.iloc[0]) + timedelta(days=train.host_seniority.iloc[0]))\n",
    "scrapping_date = scrapping_date.replace(tzinfo=None)\n",
    "print(\"The data was scrapped on the\", scrapping_date)"
   ]
  },
  {
   "cell_type": "markdown",
   "metadata": {},
   "source": [
    "# 1. Data preprocessing"
   ]
  },
  {
   "cell_type": "markdown",
   "metadata": {},
   "source": [
    "## 1.1. Dropping everything that seems irrelevant at first view"
   ]
  },
  {
   "cell_type": "code",
   "execution_count": 146,
   "metadata": {},
   "outputs": [],
   "source": [
    "# For the moment we won't do any Natural Language Processing, so we drop columns that contain text\n",
    "train.drop(columns=['name', 'neighborhood_overview', 'notes', 'transit',\n",
    "                    'access', 'interaction', 'house_rules'], inplace=True)\n",
    "\n",
    "# We also want to drop columns that don't seem to be helpful for price prediction\n",
    "train.drop(columns=['host_id', 'calendar_updated',\n",
    "                    'availability_30', 'availability_60', 'availability_90', 'availability_365'],\n",
    "           inplace=True)\n",
    "\n",
    "# Other columns may be redundant because of correlation with other columns\n",
    "train.drop(columns=['host_since', 'reviews_per_month'], inplace=True)"
   ]
  },
  {
   "cell_type": "code",
   "execution_count": 147,
   "metadata": {},
   "outputs": [],
   "source": [
    "# Same for X_to_predict\n",
    "X_to_predict.drop(columns=['name', 'neighborhood_overview', 'notes', 'transit',\n",
    "                           'access', 'interaction', 'house_rules', 'host_id', 'calendar_updated',\n",
    "                           'availability_30', 'availability_60', 'availability_90', 'availability_365',\n",
    "                           'host_since', 'reviews_per_month'], inplace=True)"
   ]
  },
  {
   "cell_type": "markdown",
   "metadata": {},
   "source": [
    "As for variables related to location, we have a few ones: \n",
    "* **`country`** is always either \"France\" or nan, so it's not useful.\n",
    "* similarly for **`department`**: 'Hauts-de-Seine', 'Paris', 'Seine-Saint-Denis' or 'Val-de-Marne', so it's useless.\n",
    "* `geolocation` and `geopoint_announce` contain the same information as **`latitude_airbnb`** and **`longitude_airbnb`**. Since for future model implementation it is better to have numerical columns (i.e. of type float64) instead of tuples, we keep the latter as two separate columns.\n",
    "* we still have `neighbourhood_cleansed`, `city` and `zipcode` left. Let's see what do we keep."
   ]
  },
  {
   "cell_type": "code",
   "execution_count": 148,
   "metadata": {},
   "outputs": [
    {
     "name": "stdout",
     "output_type": "stream",
     "text": [
      "neighbourhood_cleansed has 0 missing values.\n",
      "city has 23 missing values.\n",
      "zipcode has 12 missing values.\n",
      "neighbourhood_cleansed has 20 unique values.\n",
      "city has 100 unique values.\n",
      "zipcode has 70 unique values.\n",
      "After some cleaning, zipcode would have 58 unique values left.\n"
     ]
    }
   ],
   "source": [
    "print(\"neighbourhood_cleansed has\", train.neighbourhood_cleansed.isna().sum(), \"missing values.\")\n",
    "print(\"city has\", train.city.isna().sum(), \"missing values.\")\n",
    "print(\"zipcode has\", train.zipcode.isna().sum(), \"missing values.\")\n",
    "\n",
    "print(\"neighbourhood_cleansed has\", len(set(train.neighbourhood_cleansed)), \"unique values.\")\n",
    "print(\"city has\", len(set(train.city)), \"unique values.\")\n",
    "print(\"zipcode has\", len(set(train.zipcode)), \"unique values.\")\n",
    "\n",
    "print(\"After some cleaning, zipcode would have\", len(set(train.zipcode)) - train.zipcode.isna().sum(), \"unique values left.\")"
   ]
  },
  {
   "cell_type": "markdown",
   "metadata": {},
   "source": [
    "Conclusions:\n",
    "* **`neighbourhood_cleansed`** is very nice! It has 20 unique values which correspond to the 20 arrondissements of Paris (it was already cleaned by the source who did the web-scrapping), and it does not have any missing value!\n",
    "* `city` has a few missing values and is really messy. We also see it has more unique values, so at first view we could think it contains some more granular level, but in fact most of them are just the numbers of arrondissements (for instance 'Paris-7E-Arrondissement'), which  means that for most properties we won't be able to go into more detail than what we got with neighbourhood_cleansed. Hence we will discard this variable.\n",
    "* `zipcode` seems interesting at first view. After some small cleaning (only 12 missing values) there would be 55 unique values. But even if it's a more granular level than neighborhood cleansed, it won't be more precise than longitude and lattitude, so won't keep it. <br>\n",
    "\n",
    "Therefore, we will try different configurations, one with coordinates and the other with neighborhood_cleansed. Our utlimate goal here is to compare the performance of various models, decide which one is best, and try to understand why."
   ]
  },
  {
   "cell_type": "code",
   "execution_count": 149,
   "metadata": {},
   "outputs": [],
   "source": [
    "# variables related to location\n",
    "train.drop(columns=['country','geolocation', 'geopoint_announce', 'city', 'department', 'zipcode'], inplace=True)\n",
    "X_to_predict.drop(columns=['country','geolocation', 'geopoint_announce', 'city', 'department', 'zipcode'], inplace=True)"
   ]
  },
  {
   "cell_type": "code",
   "execution_count": 150,
   "metadata": {
    "scrolled": true
   },
   "outputs": [
    {
     "data": {
      "text/plain": [
       "description                     0.009050\n",
       "host_seniority                  0.022626\n",
       "host_response_time             33.371043\n",
       "host_response_rate             33.371043\n",
       "host_listings_count             0.022626\n",
       "host_verifications              0.081453\n",
       "neighbourhood_cleansed          0.000000\n",
       "latitude_airbnb                 0.002263\n",
       "longitude_airbnb                0.002263\n",
       "property_type                   0.002263\n",
       "room_type                       0.002263\n",
       "accommodates                    0.002263\n",
       "bathrooms                       0.314501\n",
       "bedrooms                        0.199109\n",
       "beds                            0.128968\n",
       "bed_type                        0.002263\n",
       "amenities                       0.726294\n",
       "price                           0.099554\n",
       "security_deposit                0.002263\n",
       "cleaning_fee                    0.002263\n",
       "guests_included                 0.002263\n",
       "extra_people                    0.002263\n",
       "minimum_nights                  0.002263\n",
       "maximum_nights                  0.002263\n",
       "number_of_reviews               0.002263\n",
       "first_review                   25.506256\n",
       "last_review                    25.501731\n",
       "review_scores_rating           26.967894\n",
       "review_scores_accuracy         27.151164\n",
       "review_scores_cleanliness      27.094599\n",
       "review_scores_checkin          27.205466\n",
       "review_scores_communication    27.117225\n",
       "review_scores_location         27.182840\n",
       "review_scores_value            27.194153\n",
       "cancellation_policy             0.002263\n",
       "features                        0.038464\n",
       "dtype: float64"
      ]
     },
     "execution_count": 150,
     "metadata": {},
     "output_type": "execute_result"
    }
   ],
   "source": [
    "# We would also like to drop every other column that contains too many missing values\n",
    "train.isna().sum() / len(train) * 100"
   ]
  },
  {
   "cell_type": "markdown",
   "metadata": {},
   "source": [
    "Here, apart from `host_response_time`, `host_response_rate`, and the `review_scores`, the other variables contain few missing values! So before moving forward, we need to decide what we want to do with these variables. <br>\n",
    "It is fair to assume that the review scores are quiet important when choosing an Airbnb, and so that all of these variables have an influence on the price. Furthermore, dropping all rows where a value is missing would result in loosing a lot of information, because we see that all of these properties have all (or nearly all) the other columns filled in.\n",
    "Consequently, we will keep these variables for now, and see how to deal with them in the next subsection."
   ]
  },
  {
   "cell_type": "markdown",
   "metadata": {},
   "source": [
    "## 1.2. Cleaning the variables, one-by-one"
   ]
  },
  {
   "cell_type": "markdown",
   "metadata": {},
   "source": [
    "#### host_response_time"
   ]
  },
  {
   "cell_type": "markdown",
   "metadata": {},
   "source": [
    "As we just saw mentionned, this is a variable with a lot of missing values."
   ]
  },
  {
   "cell_type": "code",
   "execution_count": 151,
   "metadata": {},
   "outputs": [
    {
     "data": {
      "text/plain": [
       "{'a few days or more',\n",
       " nan,\n",
       " 'within a day',\n",
       " 'within a few hours',\n",
       " 'within an hour'}"
      ]
     },
     "execution_count": 151,
     "metadata": {},
     "output_type": "execute_result"
    }
   ],
   "source": [
    "set(train.host_response_time)"
   ]
  },
  {
   "cell_type": "code",
   "execution_count": 152,
   "metadata": {},
   "outputs": [
    {
     "name": "stdout",
     "output_type": "stream",
     "text": [
      "Proportion of missing values: 33.37 %.\n"
     ]
    }
   ],
   "source": [
    "print(\"Proportion of missing values:\", round((train.host_response_time.isna().sum()/len(train))*100, 2), \"%.\")"
   ]
  },
  {
   "cell_type": "code",
   "execution_count": 153,
   "metadata": {
    "scrolled": true
   },
   "outputs": [
    {
     "name": "stdout",
     "output_type": "stream",
     "text": [
      "Among the missing values, 47.21 % have 0 reviews.\n"
     ]
    }
   ],
   "source": [
    "tmp = train[['host_response_time', 'number_of_reviews']][train.host_response_time.isna()]\n",
    "tmp = tmp[tmp.host_response_time.isna()]\n",
    "tmp = tmp[tmp.number_of_reviews == 0]\n",
    "print(\"Among the missing values,\", round(len(tmp)/sum(train.host_response_time.isna())*100, 2), \"% have 0 reviews.\")"
   ]
  },
  {
   "cell_type": "markdown",
   "metadata": {},
   "source": [
    "Indeed, this may be the case of posted properties that hadn't yet received any review at the moment when the web-scraping was made. So in fact it's not really a \"missing\" value, in the sense that it still hasn't had the opportunity to be determined. We will hence replace the nan by undetermined."
   ]
  },
  {
   "cell_type": "code",
   "execution_count": 154,
   "metadata": {},
   "outputs": [
    {
     "data": {
      "text/plain": [
       "undetermined             0.333710\n",
       "0_within_an_hour         0.303188\n",
       "1_within_a few_hours     0.173179\n",
       "2_within_a_day           0.160124\n",
       "3_a_few_days_or_more     0.029798\n",
       "Name: host_response_time, dtype: float64"
      ]
     },
     "execution_count": 154,
     "metadata": {},
     "output_type": "execute_result"
    }
   ],
   "source": [
    "train.host_response_time.fillna(\"undetermined\", inplace=True)\n",
    "X_to_predict.host_response_time.fillna(\"undetermined\", inplace=True)\n",
    "\n",
    "None\n",
    "train.host_response_time.replace({\"within an hour\": \"0_within_an_hour\",\n",
    "                                  \"within a few hours\": \"1_within_a few_hours \",\n",
    "                                  \"within a day\": \"2_within_a_day\",\n",
    "                                  \"a few days or more\": \"3_a_few_days_or_more\"}, inplace=True)\n",
    "train.host_response_time.value_counts(normalize=True)"
   ]
  },
  {
   "cell_type": "markdown",
   "metadata": {},
   "source": [
    "#### host_response_rate"
   ]
  },
  {
   "cell_type": "code",
   "execution_count": 155,
   "metadata": {},
   "outputs": [
    {
     "name": "stdout",
     "output_type": "stream",
     "text": [
      "Proportion of missing values: 33.37 %.\n"
     ]
    }
   ],
   "source": [
    "print(\"Proportion of missing values:\", round((train.host_response_rate.isna().sum()/len(train))*100, 2), \"%.\")"
   ]
  },
  {
   "cell_type": "markdown",
   "metadata": {},
   "source": [
    "We also have about a third of the values which are missing for this variable. <br> The thing is that this is a numerical variable, so we can't simply replace the nan by 0. Instead, if we want to replace the nan by undetermined as we did before, we need to convert it to a categorical variable."
   ]
  },
  {
   "cell_type": "code",
   "execution_count": 156,
   "metadata": {},
   "outputs": [
    {
     "data": {
      "text/plain": [
       "count    29448.000000\n",
       "mean        91.571007\n",
       "std         20.453736\n",
       "min          0.000000\n",
       "25%         95.000000\n",
       "50%        100.000000\n",
       "75%        100.000000\n",
       "max        100.000000\n",
       "Name: host_response_rate, dtype: float64"
      ]
     },
     "execution_count": 156,
     "metadata": {},
     "output_type": "execute_result"
    }
   ],
   "source": [
    "train.host_response_rate.describe()"
   ]
  },
  {
   "cell_type": "code",
   "execution_count": 157,
   "metadata": {},
   "outputs": [
    {
     "name": "stdout",
     "output_type": "stream",
     "text": [
      "Proportion of hosts with 100% response rate: 70.37 %.\n"
     ]
    }
   ],
   "source": [
    "print(\"Proportion of hosts with 100% response rate:\", \n",
    "      round(len(train[train.host_response_rate == 100]) / (len(train.host_response_rate) - train.host_response_rate.isna().sum())*100, 2), \"%.\")"
   ]
  },
  {
   "cell_type": "markdown",
   "metadata": {},
   "source": [
    "We see that most of the hosts always respond all the time. This will affect the way we split the variable."
   ]
  },
  {
   "cell_type": "code",
   "execution_count": 158,
   "metadata": {},
   "outputs": [
    {
     "data": {
      "text/plain": [
       "3_100%            20724\n",
       "4_undetermined    14749\n",
       "1_51-95%           5862\n",
       "0_0-50%            1862\n",
       "2_96-99%           1000\n",
       "Name: host_response_rate, dtype: int64"
      ]
     },
     "execution_count": 158,
     "metadata": {},
     "output_type": "execute_result"
    }
   ],
   "source": [
    "# Splitting into four categories\n",
    "train.host_response_rate = pd.cut(train.host_response_rate, \n",
    "                                  bins=[0, 51, 96, 99, 100],\n",
    "                                  labels=['0_0-50%', '1_51-95%', '2_96-99%', '3_100%'], # the variable only has integer values\n",
    "                                  include_lowest=True)\n",
    "\n",
    "train.host_response_rate = train.host_response_rate.astype('str') # we need to convert to string\n",
    "train.host_response_rate.replace('nan', '4_undetermined', inplace=True)\n",
    "\n",
    "# For X_to_predict\n",
    "X_to_predict.host_response_rate = pd.cut(X_to_predict.host_response_rate, \n",
    "                                   bins=[0, 51, 96, 99, 100],\n",
    "                                   labels=['0_0-50%', '1_51-95%', '2_96-99%', '3_100%'],\n",
    "                                   include_lowest=True)\n",
    "\n",
    "X_to_predict.host_response_rate = X_to_predict.host_response_rate.astype('str') # we need to convert to string\n",
    "X_to_predict.host_response_rate.replace('nan', '4_undetermined', inplace=True)\n",
    "\n",
    "# Results\n",
    "train.host_response_rate.value_counts()"
   ]
  },
  {
   "cell_type": "markdown",
   "metadata": {},
   "source": [
    "#### host_verifications"
   ]
  },
  {
   "cell_type": "markdown",
   "metadata": {},
   "source": [
    "Intuitively this doesn't seem like a crucial variable. Maybe a host with more verifications is more worried about renting, but that's all. We will simply keep the number of verifications."
   ]
  },
  {
   "cell_type": "code",
   "execution_count": 159,
   "metadata": {},
   "outputs": [
    {
     "data": {
      "text/plain": [
       "id\n",
       "10534791                                 email,phone,reviews\n",
       "16001259                                               phone\n",
       "17763072    email,phone,linkedin,reviews,jumio,government_id\n",
       "Name: host_verifications, dtype: object"
      ]
     },
     "execution_count": 159,
     "metadata": {},
     "output_type": "execute_result"
    }
   ],
   "source": [
    "train.host_verifications.head(3)"
   ]
  },
  {
   "cell_type": "code",
   "execution_count": 160,
   "metadata": {},
   "outputs": [],
   "source": [
    "# Again, we will first replace nan by median of number of verifications\n",
    "med = median([len(str(i).split(\",\")) for i in train.host_verifications])\n",
    "train_verificatons = list()\n",
    "for i in train.host_verifications:\n",
    "    if str(i) == \"nan\":\n",
    "        train_verificatons.append(med)\n",
    "    else:\n",
    "        train_verificatons.append(len(str(i).split(\",\")))\n",
    "        \n",
    "train.host_verifications = train_verificatons\n",
    "        \n",
    "\n",
    "# Same for X_to_predict\n",
    "med = median([len(str(i).split(\",\")) for i in X_to_predict.host_verifications])\n",
    "X_to_predict_verificatons = list()\n",
    "for i in X_to_predict.host_verifications:\n",
    "    if str(i) == \"nan\":\n",
    "        X_to_predict_verificatons.append(med)\n",
    "    else:\n",
    "        X_to_predict_verificatons.append(len(str(i).split(\",\")))\n",
    "        \n",
    "X_to_predict.host_verifications = X_to_predict_verificatons"
   ]
  },
  {
   "cell_type": "markdown",
   "metadata": {},
   "source": [
    "#### latitude_airbnb / longitude_airbnb"
   ]
  },
  {
   "cell_type": "code",
   "execution_count": 161,
   "metadata": {},
   "outputs": [
    {
     "name": "stdout",
     "output_type": "stream",
     "text": [
      "For latitude we miss id 3539728\n",
      "For longitude we miss id 3539728\n"
     ]
    }
   ],
   "source": [
    "print(\"For latitude we miss id\", train.index[train.latitude_airbnb.isna()][0])\n",
    "print(\"For longitude we miss id\", train.index[train.longitude_airbnb.isna()][0])\n",
    "\n",
    "# We are missing the coordinates for the same host (in fact it has nothing so we will simply drop it)\n",
    "train = train[pd.notnull(train[\"longitude_airbnb\"])]\n",
    "train = train[pd.notnull(train[\"latitude_airbnb\"])]"
   ]
  },
  {
   "cell_type": "markdown",
   "metadata": {},
   "source": [
    "#### property_type"
   ]
  },
  {
   "cell_type": "code",
   "execution_count": 162,
   "metadata": {},
   "outputs": [
    {
     "data": {
      "text/plain": [
       "0"
      ]
     },
     "execution_count": 162,
     "metadata": {},
     "output_type": "execute_result"
    }
   ],
   "source": [
    "# No NaN values\n",
    "train.property_type.isna().sum()"
   ]
  },
  {
   "cell_type": "code",
   "execution_count": 163,
   "metadata": {
    "scrolled": true
   },
   "outputs": [
    {
     "data": {
      "text/plain": [
       "Apartment             95.458865\n",
       "Loft                   1.058919\n",
       "House                  1.043081\n",
       "Bed & Breakfast        0.742149\n",
       "Condominium            0.538510\n",
       "Other                  0.307720\n",
       "Boutique hotel         0.221740\n",
       "Townhouse              0.142547\n",
       "Guesthouse             0.126708\n",
       "Dorm                   0.110870\n",
       "Hostel                 0.054304\n",
       "Boat                   0.054304\n",
       "Serviced apartment     0.047516\n",
       "Cabin                  0.029414\n",
       "Villa                  0.027152\n",
       "Timeshare              0.011313\n",
       "Bungalow               0.004525\n",
       "Camper/RV              0.004525\n",
       "Igloo                  0.004525\n",
       "Cave                   0.004525\n",
       "Tipi                   0.002263\n",
       "Earth House            0.002263\n",
       "Chalet                 0.002263\n",
       "Name: property_type, dtype: float64"
      ]
     },
     "execution_count": 163,
     "metadata": {},
     "output_type": "execute_result"
    }
   ],
   "source": [
    "train.property_type.value_counts(normalize=True) * 100"
   ]
  },
  {
   "cell_type": "markdown",
   "metadata": {},
   "source": [
    "This is a harder one to treat! Apart from the level \"apartment\", all other levels rarely occur.\n",
    "We think this variable is important to determine the price, though, so let's try to deal with it. <br>\n",
    "The usual approach in this cases where we have plenty of categories with few observations is to combine levels with similarities. Here a loft is a type of apartment, and a villa is a type of house, for instance...\n",
    "Of course, if we do this we are losing detail, because a loft is usually more luxurious than an apartment. But we can also think that with so many livings having been classified as \"Apartment\", some of them must also be more luxurious, and so the information about this differentiation has, in reality, already been lost. Besides, with so few observations we don't have many alternatives."
   ]
  },
  {
   "cell_type": "code",
   "execution_count": 164,
   "metadata": {},
   "outputs": [],
   "source": [
    "# Let's do some replacement\n",
    "dic = {\n",
    "    \"Loft\": \"Apartment\",\n",
    "    \"Bed & Breakfast\": \"Hotel\",\n",
    "    \"Condominium\": \"Apartment\",\n",
    "    \"Boutique hotel\": \"Hotel\",\n",
    "    \"Townhouse\": \"House\",\n",
    "    \"Guesthouse\": \"House\",\n",
    "    \"Dorm\": \"Apartment\",\n",
    "    \"Hostel\": \"Hotel\",\n",
    "    \"Boat\": \"Other\",\n",
    "    \"Serviced apartment\": \"Apartment\",\n",
    "    \"Cabin\": \"House\",\n",
    "    \"Villa\": \"House\",\n",
    "    \"Timeshare\": \"Apartment\",\n",
    "    \"Cave\": \"Other\",\n",
    "    \"Camper/RV\": \"Other\",\n",
    "    \"Bungalow\": \"House\",\n",
    "    \"Igloo\": \"Other\",\n",
    "    \"Earth House\": \"House\",\n",
    "    \"Chalet\": \"House\",\n",
    "    \"Tipi\": \"Other\"\n",
    "}\n",
    "\n",
    "tmp = train.copy()\n",
    "tmp.replace({\"property_type\": dic}, inplace=True)"
   ]
  },
  {
   "cell_type": "code",
   "execution_count": 165,
   "metadata": {},
   "outputs": [
    {
     "data": {
      "text/plain": [
       "Apartment    97.225993\n",
       "House         1.377953\n",
       "Hotel         1.018192\n",
       "Other         0.377862\n",
       "Name: property_type, dtype: float64"
      ]
     },
     "execution_count": 165,
     "metadata": {},
     "output_type": "execute_result"
    }
   ],
   "source": [
    "# new counts\n",
    "tmp.property_type.value_counts(normalize=True) * 100"
   ]
  },
  {
   "cell_type": "code",
   "execution_count": 166,
   "metadata": {},
   "outputs": [],
   "source": [
    "# In fact, we have too few observations for the category \"Other\", so we will replace by the mode\n",
    "tmp.property_type.replace('Other', 'Apartment', inplace=True)\n",
    "train = tmp.copy()"
   ]
  },
  {
   "cell_type": "code",
   "execution_count": 167,
   "metadata": {},
   "outputs": [
    {
     "data": {
      "text/plain": [
       "Apartment    43137\n",
       "House          609\n",
       "Hotel          450\n",
       "Name: property_type, dtype: int64"
      ]
     },
     "execution_count": 167,
     "metadata": {},
     "output_type": "execute_result"
    }
   ],
   "source": [
    "# we are left with the following\n",
    "train.property_type.value_counts()"
   ]
  },
  {
   "cell_type": "code",
   "execution_count": 168,
   "metadata": {},
   "outputs": [],
   "source": [
    "# same for X_to_predict\n",
    "tmp = X_to_predict.copy()\n",
    "tmp.replace({\"property_type\": dic}, inplace=True)\n",
    "tmp.property_type.replace('Other', 'Apartment', inplace=True)\n",
    "X_to_predict = tmp.copy()"
   ]
  },
  {
   "cell_type": "markdown",
   "metadata": {},
   "source": [
    "#### room_type"
   ]
  },
  {
   "cell_type": "code",
   "execution_count": 169,
   "metadata": {},
   "outputs": [
    {
     "data": {
      "text/plain": [
       "0"
      ]
     },
     "execution_count": 169,
     "metadata": {},
     "output_type": "execute_result"
    }
   ],
   "source": [
    "# No NaN values\n",
    "train.room_type.isna().sum()"
   ]
  },
  {
   "cell_type": "code",
   "execution_count": 170,
   "metadata": {},
   "outputs": [
    {
     "data": {
      "text/plain": [
       "Entire home/apt    85.747579\n",
       "Private room       13.200290\n",
       "Shared room         1.052131\n",
       "Name: room_type, dtype: float64"
      ]
     },
     "execution_count": 170,
     "metadata": {},
     "output_type": "execute_result"
    }
   ],
   "source": [
    "train.room_type.value_counts(normalize=True) * 100"
   ]
  },
  {
   "cell_type": "markdown",
   "metadata": {},
   "source": [
    "There are very few instances of shared room but it looks ok!"
   ]
  },
  {
   "cell_type": "markdown",
   "metadata": {},
   "source": [
    "#### bed_type"
   ]
  },
  {
   "cell_type": "code",
   "execution_count": 171,
   "metadata": {},
   "outputs": [
    {
     "data": {
      "text/plain": [
       "0"
      ]
     },
     "execution_count": 171,
     "metadata": {},
     "output_type": "execute_result"
    }
   ],
   "source": [
    "# No NaN values\n",
    "train.bed_type.isna().sum()"
   ]
  },
  {
   "cell_type": "code",
   "execution_count": 172,
   "metadata": {},
   "outputs": [
    {
     "data": {
      "text/plain": [
       "Real Bed         89.725315\n",
       "Pull-out Sofa     7.835551\n",
       "Couch             1.692461\n",
       "Futon             0.683320\n",
       "Airbed            0.063354\n",
       "Name: bed_type, dtype: float64"
      ]
     },
     "execution_count": 172,
     "metadata": {},
     "output_type": "execute_result"
    }
   ],
   "source": [
    "train.bed_type.value_counts(normalize=True) * 100"
   ]
  },
  {
   "cell_type": "markdown",
   "metadata": {},
   "source": [
    "Futon and Airbed have too few observations, se we will group them..."
   ]
  },
  {
   "cell_type": "code",
   "execution_count": 173,
   "metadata": {},
   "outputs": [],
   "source": [
    "# We won't make any difference between a futon and a pull-out sofa, nor between an airbed and a simple couch\n",
    "train.bed_type = train.bed_type.replace(\"Futon\", \"Pull-out Sofa\")\n",
    "train.bed_type = train.bed_type.replace(\"Airbed\", \"Couch\")\n",
    "\n",
    "X_to_predict.bed_type = X_to_predict.bed_type.replace(\"Futon\", \"Pull-out Sofa\")\n",
    "X_to_predict.bed_type = X_to_predict.bed_type.replace(\"Airbed\", \"Couch\")"
   ]
  },
  {
   "cell_type": "markdown",
   "metadata": {},
   "source": [
    "#### amenities"
   ]
  },
  {
   "cell_type": "code",
   "execution_count": 174,
   "metadata": {},
   "outputs": [
    {
     "data": {
      "text/plain": [
       "'TV,Internet,Wireless Internet,Kitchen,Buzzer/wireless intercom,Heating,Family/kid friendly,Hair dryer,Iron'"
      ]
     },
     "execution_count": 174,
     "metadata": {},
     "output_type": "execute_result"
    }
   ],
   "source": [
    "train.amenities.iloc[0] # for every property, we have a list of all its amenities"
   ]
  },
  {
   "cell_type": "code",
   "execution_count": 175,
   "metadata": {},
   "outputs": [
    {
     "name": "stdout",
     "output_type": "stream",
     "text": [
      "The training dataset has 320 missing values\n",
      "The test dataset has 67 missing values\n"
     ]
    }
   ],
   "source": [
    "print(\"The training dataset has\", train.amenities.isna().sum(), \"missing values\")\n",
    "print(\"The test dataset has\", X_to_predict.amenities.isna().sum(), \"missing values\")"
   ]
  },
  {
   "cell_type": "markdown",
   "metadata": {},
   "source": [
    "I thought it would be interesting here to create one column for every amenity, and put a 0 if the accomodation has it, and 1 otherwise, instead of simply taking the number of amenities for instance. The only difficulty is that a few rows contain missing values and it wouldn't be correct to simply put a 0 in every column. <br> A first approach consisted in comparing the amenities of the $k$ nearest neighbours ($k$NN), and imputing the mode (most frequent value among the $k$-NN). But this method didn't yield conclusive results: we normalized a dataset containing only some of the numerical columns in order for the distances not to depend on the scale, and in the end all distances were pretty close... <br>\n",
    "Hence, we decided to impute the mode directly."
   ]
  },
  {
   "cell_type": "code",
   "execution_count": 176,
   "metadata": {},
   "outputs": [],
   "source": [
    "mode = train.amenities.value_counts().keys()[0]\n",
    "train.amenities.fillna(mode, inplace=True)\n",
    "\n",
    "mode = X_to_predict.amenities.value_counts().keys()[0]\n",
    "X_to_predict.amenities.fillna(mode, inplace=True)"
   ]
  },
  {
   "cell_type": "markdown",
   "metadata": {},
   "source": [
    "We will first create a giant list with all the amenities. Then we would like to keep only the most important ones. <br>\n",
    "The selection will be made based on amenities frequency: if it turns out that almost all properties have/do not have a particular amenity, that feature will not be very useful in differentiating between listings or helping explain differences in prices. Some research on the internet and our own personal opinion also help making the selection."
   ]
  },
  {
   "cell_type": "code",
   "execution_count": 5,
   "metadata": {},
   "outputs": [],
   "source": [
    "# We will create a function in order to apply to X_to_predict afterwards\n",
    "\n",
    "# This is a preliminary function to automate the column naming later on\n",
    "def get_new_name(old_name: str) -> str:\n",
    "    \"\"\"Creates a new column name free of spaces, hyphens and underscores\n",
    "    \"\"\"\n",
    "    new_name = old_name.lower()\n",
    "    to_replace = [\" \", \"-\", \"/\"]\n",
    "    for i in to_replace:\n",
    "        new_name = new_name.replace(i, \"_\")\n",
    "    return(new_name)\n",
    "\n",
    "\n",
    "def treat_amenities(df: pd.DataFrame) -> pd.DataFrame:\n",
    "    \"\"\"Treats the amenities variable.\n",
    "    Transforms every amenity into a new column, making sure class-imbalance constraint\n",
    "    is not violated (i.e. keep all that appear in 10%-90% of the listings).\n",
    "    Additionally, combine some amenities which were worded in different manner\n",
    "    (e.g. tv and cable_tv).\n",
    "\n",
    "    Args:\n",
    "        df (pd.DataFrame): dataframe containing amenities\n",
    "    Return:\n",
    "        df (pd.DataFrame): dataframe with amenities decomposed\n",
    "    \"\"\"\n",
    "    if \"amenities\" not in list(df.columns):\n",
    "        return df\n",
    "\n",
    "    # Giant list\n",
    "    amenities_list = list(df.amenities)\n",
    "    amenities_list_string = \",\".join(amenities_list) # giant string\n",
    "    amenities_splitted = amenities_list_string.split(',')\n",
    "    amenities_set = [string for string in amenities_splitted if string[0:len(\"translation\")] != \"translation\"] # we clean it\n",
    "    amenities_set = set(amenities_set) # we keep unique values\n",
    "    \n",
    "    # Frequency for every amenity\n",
    "    frequencies_dict = {}\n",
    "    for i in amenities_set:\n",
    "        frequencies_dict[i] = amenities_splitted.count(i) / len(amenities_list) * 100\n",
    "\n",
    "    # We convert to list of tuples to sort\n",
    "    print(\"The amenities sorted by frequency are: \\n\", sorted(frequencies_dict.items(), key=lambda k: k[1]))\n",
    "    \n",
    "    # We will keep all those that appear in no more than 90% nor less than 10% of the listings:\n",
    "    uninteresting_amenities = []\n",
    "    for i in frequencies_dict:\n",
    "        if frequencies_dict[i] <= 10 or frequencies_dict[i] >= 90:\n",
    "            uninteresting_amenities.append(i)\n",
    "\n",
    "    print(\"There are\", len(uninteresting_amenities), \"uninteresting_amenities.\")\n",
    "\n",
    "    amenities_set -= set(uninteresting_amenities)\n",
    "    print(\"The final set is of length\", len(amenities_set),\":\", amenities_set)\n",
    "    \n",
    "    # new columns\n",
    "    for i in amenities_set:\n",
    "        df[get_new_name(i)] = np.where(df[\"amenities\"].str.contains(i), 1, 0)\n",
    "    \n",
    "    # combining TV and cable TV / dryer and hair dryer\n",
    "    df[\"tv\"] = df[\"tv\"] + df[\"cable_tv\"]\n",
    "    df[\"tv\"] = df[\"tv\"].replace(2,1)\n",
    "    df.drop(columns=['cable_tv'], inplace=True)\n",
    "    \n",
    "    df[\"dryer\"] = df[\"dryer\"] + df[\"hair_dryer\"]\n",
    "    df[\"dryer\"] = df[\"dryer\"].replace(2,1)\n",
    "    df.drop(columns=['hair_dryer'], inplace=True)\n",
    "    \n",
    "    # we can drop the origianl column\n",
    "    df.drop(columns=['amenities'], inplace=True)\n",
    "    \n",
    "    return(df)"
   ]
  },
  {
   "cell_type": "code",
   "execution_count": 178,
   "metadata": {
    "scrolled": true
   },
   "outputs": [
    {
     "name": "stdout",
     "output_type": "stream",
     "text": [
      "The amenities sorted by frequency are: \n",
      " [('Free parking on street', 0.0022626482034573264), ('Baby monitor', 0.004525296406914653), ('Table corner guards', 0.009050592813829306), ('Stair gates', 0.011313241017286632), ('Fireplace guards', 0.015838537424201285), ('Paid parking off premises', 0.020363833831115938), ('Outlet covers', 0.022626482034573264), ('Washer / Dryer', 0.027151778441487917), ('Baby bath', 0.027151778441487917), ('Window guards', 0.033939723051859896), ('Babysitter recommendations', 0.03620237125531722), ('Game console', 0.03620237125531722), ('Changing table', 0.03846501945877455), ('Crib', 0.047515612272603855), ('Children’s dinnerware', 0.04977826047606118), ('High chair', 0.0769300389175491), ('Pack ’n Play/travel crib', 0.0769300389175491), ('Children’s books and toys', 0.08145533532446375), ('Room-darkening shades', 0.09955652095212236), ('Smartlock', 0.19232509729387276), ('Other pet(s)', 0.19232509729387276), ('Bathtub', 0.24436600597339125), ('Pool', 0.2556792469906779), ('Keypad', 0.2986695628563671), ('Private living room', 0.4095393248257761), ('Dog(s)', 0.4457416960810933), ('Gym', 0.6018644221196489), ('Doorman Entry', 1.0000905059281382), ('Lockbox', 1.1086976196940899), ('Hot tub', 1.151687935559779), ('Cat(s)', 1.635894651099647), ('Pets live on this property', 2.368992669019821), ('Self Check-In', 2.577156303737895), ('Private entrance', 2.6427731016381575), ('Doorman', 2.744592270793737), ('Suitable for events', 3.348719341116843), ('Free parking on premises', 3.7356321839080464), ('Lock on bedroom door', 5.355688297583492), ('Air conditioning', 5.373789483211151), ('Wheelchair accessible', 5.652095212236401), ('Indoor fireplace', 7.595710019006245), ('Pets allowed', 10.310887863155036), ('Fire extinguisher', 10.727215132591185), ('Breakfast', 12.70250701420943), ('First aid kit', 12.897094759706762), ('Safety card', 13.238754638428818), ('Carbon monoxide detector', 16.166621413702597), ('Smoking allowed', 20.35478323830211), ('24-hour check-in', 25.7104715358856), ('Dryer', 28.75825866594262), ('Cable TV', 33.49624400398226), ('Buzzer/wireless intercom', 35.05747126436782), ('Elevator in building', 44.31170241650828), ('Laptop friendly workspace', 45.19187256765318), ('Shampoo', 51.597429631640864), ('Hair dryer', 53.32383021087881), ('Iron', 53.461851751289714), ('Hangers', 53.461851751289714), ('Family/kid friendly', 55.62946873020182), ('Smoke detector', 59.77464023893565), ('Internet', 66.45624038374514), ('TV', 66.93139650647117), ('Washer', 77.5024889130238), ('Essentials', 86.54629378224273), ('Wireless Internet', 94.71671644492714), ('Heating', 95.5878360032582), ('Kitchen', 96.14218481310526)]\n",
      "There are 44 uninteresting_amenities.\n",
      "The final set is of length 23 : {'Carbon monoxide detector', 'Hair dryer', 'Shampoo', 'First aid kit', 'Laptop friendly workspace', 'Cable TV', 'Internet', 'Iron', '24-hour check-in', 'Washer', 'Safety card', 'Elevator in building', 'Fire extinguisher', 'Family/kid friendly', 'Smoke detector', 'TV', 'Smoking allowed', 'Breakfast', 'Pets allowed', 'Hangers', 'Buzzer/wireless intercom', 'Dryer', 'Essentials'}\n",
      "The amenities sorted by frequency are: \n",
      " [('Outlet covers', 0.009186110600771635), ('Fireplace guards', 0.009186110600771635), ('Table corner guards', 0.009186110600771635), ('Baby bath', 0.009186110600771635), ('Crib', 0.01837222120154327), ('Game console', 0.01837222120154327), ('Children’s dinnerware', 0.01837222120154327), ('Paid parking off premises', 0.01837222120154327), ('High chair', 0.027558331802314897), ('Changing table', 0.027558331802314897), ('Washer / Dryer', 0.027558331802314897), ('Window guards', 0.03674444240308654), ('Children’s books and toys', 0.04593055300385817), ('Pack ’n Play/travel crib', 0.055116663604629794), ('Room-darkening shades', 0.0826749954069447), ('Other pet(s)', 0.12860554841080288), ('Smartlock', 0.20209443321697593), ('Pool', 0.2480249862208341), ('Bathtub', 0.2663972074223774), ('Keypad', 0.34907220282932205), ('Private living room', 0.42256108763549516), ('Dog(s)', 0.45011941943781003), ('Gym', 0.6522138526547859), ('Doorman Entry', 1.0380304978871946), ('Lockbox', 1.2125665993018555), ('Hot tub', 1.2584971523057138), ('Cat(s)', 1.6167554657358074), ('Pets live on this property', 2.425133198603711), ('Self Check-In', 2.783391512033805), ('Private entrance', 2.7925776226345764), ('Doorman', 3.058974830056954), ('Free parking on premises', 3.4631636964909056), ('Suitable for events', 3.591769244901709), ('Lock on bedroom door', 5.015616388021312), ('Air conditioning', 5.236083042439831), ('Wheelchair accessible', 5.300385816645233), ('Indoor fireplace', 7.505052360830425), ('Pets allowed', 10.527282748484291), ('Fire extinguisher', 10.646702186294323), ('Breakfast', 12.052177108212383), ('First aid kit', 12.189968767223958), ('Safety card', 13.237185375711924), ('Carbon monoxide detector', 17.14128238103987), ('Smoking allowed', 20.25537387470145), ('24-hour check-in', 26.75914018004777), ('Dryer', 29.542531692081575), ('Cable TV', 34.163145324269706), ('Buzzer/wireless intercom', 35.816645232408604), ('Elevator in building', 44.00146977769612), ('Laptop friendly workspace', 45.489619695021126), ('Shampoo', 52.66397207422378), ('Hair dryer', 53.04978871945618), ('Hangers', 53.72037479331251), ('Iron', 53.821422009920994), ('Family/kid friendly', 56.42109130993938), ('Smoke detector', 60.720191071100494), ('Internet', 66.74627962520668), ('TV', 66.89325739481905), ('Washer', 77.83391512033805), ('Essentials', 86.21164798824178), ('Wireless Internet', 94.4607753077347), ('Heating', 95.37938636781188), ('Kitchen', 96.54602241410987)]\n",
      "There are 40 uninteresting_amenities.\n",
      "The final set is of length 23 : {'Carbon monoxide detector', 'Hair dryer', 'Shampoo', 'First aid kit', 'Laptop friendly workspace', 'Cable TV', 'Internet', 'Iron', '24-hour check-in', 'Washer', 'Safety card', 'Elevator in building', 'Fire extinguisher', 'Family/kid friendly', 'Smoke detector', 'TV', 'Smoking allowed', 'Breakfast', 'Pets allowed', 'Hangers', 'Buzzer/wireless intercom', 'Dryer', 'Essentials'}\n"
     ]
    }
   ],
   "source": [
    "train = treat_amenities(train)\n",
    "X_to_predict = treat_amenities(X_to_predict)"
   ]
  },
  {
   "cell_type": "code",
   "execution_count": 179,
   "metadata": {},
   "outputs": [
    {
     "data": {
      "text/plain": [
       "{'price'}"
      ]
     },
     "execution_count": 179,
     "metadata": {},
     "output_type": "execute_result"
    }
   ],
   "source": [
    "# Verify both sets have the same explanatory variables\n",
    "set(train.columns) - set(X_to_predict.columns)"
   ]
  },
  {
   "cell_type": "markdown",
   "metadata": {},
   "source": [
    "#### security_deposit / cleaning_fee"
   ]
  },
  {
   "cell_type": "code",
   "execution_count": 180,
   "metadata": {},
   "outputs": [
    {
     "name": "stdout",
     "output_type": "stream",
     "text": [
      "For security_deposit: \n",
      " 0_no_deposit    19980\n",
      "1_]0-200]        8867\n",
      "2_]200-400]      8509\n",
      "03_[400-++[      6840\n",
      "Name: security_deposit, dtype: int64 \n",
      "\n",
      "For cleaning_fee: \n",
      " 1_]0-30]        16525\n",
      "0_no_deposit    16320\n",
      "2_]30-60]        8808\n",
      "03_[60-++[       2543\n",
      "Name: cleaning_fee, dtype: int64\n"
     ]
    }
   ],
   "source": [
    "# Both look well balanced\n",
    "print(\"For security_deposit: \\n\", train.security_deposit.value_counts(), \"\\n\")\n",
    "print(\"For cleaning_fee: \\n\", train.cleaning_fee.value_counts())"
   ]
  },
  {
   "cell_type": "code",
   "execution_count": 181,
   "metadata": {},
   "outputs": [],
   "source": [
    "# Just a quick replacement\n",
    "train.security_deposit.replace({'03_[400-++[': '3_[400-++['}, inplace=True)\n",
    "X_to_predict.security_deposit.replace({'03_[400-++[': '3_[400-++['}, inplace=True)\n",
    "\n",
    "train.cleaning_fee.replace({'03_[60-++[': '3_[60-++['}, inplace=True)\n",
    "X_to_predict.cleaning_fee.replace({'03_[60-++[': '3_[60-++['}, inplace=True)"
   ]
  },
  {
   "cell_type": "markdown",
   "metadata": {},
   "source": [
    "#### other numerical variables"
   ]
  },
  {
   "cell_type": "code",
   "execution_count": 182,
   "metadata": {},
   "outputs": [],
   "source": [
    "num_columns = [\n",
    "    'host_seniority',\n",
    "    'host_listings_count',\n",
    "    'accommodates',\n",
    "    'bathrooms',\n",
    "    'bedrooms',\n",
    "    'beds',\n",
    "    'guests_included',\n",
    "    'extra_people',\n",
    "    'minimum_nights',\n",
    "    'maximum_nights',\n",
    "    'number_of_reviews',\n",
    "    'price'\n",
    "]\n",
    "\n",
    "# we replace missing values by the median\n",
    "for i in num_columns:\n",
    "    train[i].fillna(train[i].median(), inplace=True)\n",
    "    if i != \"price\":\n",
    "        X_to_predict[i].fillna(X_to_predict[i].median(), inplace=True)"
   ]
  },
  {
   "cell_type": "code",
   "execution_count": 183,
   "metadata": {},
   "outputs": [
    {
     "data": {
      "text/html": [
       "<div>\n",
       "<style scoped>\n",
       "    .dataframe tbody tr th:only-of-type {\n",
       "        vertical-align: middle;\n",
       "    }\n",
       "\n",
       "    .dataframe tbody tr th {\n",
       "        vertical-align: top;\n",
       "    }\n",
       "\n",
       "    .dataframe thead th {\n",
       "        text-align: right;\n",
       "    }\n",
       "</style>\n",
       "<table border=\"1\" class=\"dataframe\">\n",
       "  <thead>\n",
       "    <tr style=\"text-align: right;\">\n",
       "      <th></th>\n",
       "      <th>host_seniority</th>\n",
       "      <th>host_listings_count</th>\n",
       "      <th>accommodates</th>\n",
       "      <th>bathrooms</th>\n",
       "      <th>bedrooms</th>\n",
       "      <th>beds</th>\n",
       "      <th>guests_included</th>\n",
       "      <th>extra_people</th>\n",
       "      <th>minimum_nights</th>\n",
       "      <th>maximum_nights</th>\n",
       "      <th>number_of_reviews</th>\n",
       "      <th>price</th>\n",
       "    </tr>\n",
       "  </thead>\n",
       "  <tbody>\n",
       "    <tr>\n",
       "      <th>count</th>\n",
       "      <td>44196.000000</td>\n",
       "      <td>44196.000000</td>\n",
       "      <td>44196.000000</td>\n",
       "      <td>44196.000000</td>\n",
       "      <td>44196.000000</td>\n",
       "      <td>44196.000000</td>\n",
       "      <td>44196.000000</td>\n",
       "      <td>44196.000000</td>\n",
       "      <td>44196.000000</td>\n",
       "      <td>4.419600e+04</td>\n",
       "      <td>44196.000000</td>\n",
       "      <td>44196.000000</td>\n",
       "    </tr>\n",
       "    <tr>\n",
       "      <th>mean</th>\n",
       "      <td>1894.278057</td>\n",
       "      <td>5.068626</td>\n",
       "      <td>3.025568</td>\n",
       "      <td>1.092282</td>\n",
       "      <td>1.048941</td>\n",
       "      <td>1.675265</td>\n",
       "      <td>1.377885</td>\n",
       "      <td>5.415015</td>\n",
       "      <td>3.388655</td>\n",
       "      <td>2.359273e+04</td>\n",
       "      <td>14.593787</td>\n",
       "      <td>94.205788</td>\n",
       "    </tr>\n",
       "    <tr>\n",
       "      <th>std</th>\n",
       "      <td>540.047479</td>\n",
       "      <td>22.967475</td>\n",
       "      <td>1.469139</td>\n",
       "      <td>0.376639</td>\n",
       "      <td>0.794755</td>\n",
       "      <td>1.022293</td>\n",
       "      <td>0.863012</td>\n",
       "      <td>12.481719</td>\n",
       "      <td>11.631600</td>\n",
       "      <td>4.756963e+06</td>\n",
       "      <td>29.166005</td>\n",
       "      <td>73.111857</td>\n",
       "    </tr>\n",
       "    <tr>\n",
       "      <th>min</th>\n",
       "      <td>902.000000</td>\n",
       "      <td>0.000000</td>\n",
       "      <td>1.000000</td>\n",
       "      <td>0.000000</td>\n",
       "      <td>0.000000</td>\n",
       "      <td>1.000000</td>\n",
       "      <td>1.000000</td>\n",
       "      <td>0.000000</td>\n",
       "      <td>1.000000</td>\n",
       "      <td>1.000000e+00</td>\n",
       "      <td>0.000000</td>\n",
       "      <td>0.000000</td>\n",
       "    </tr>\n",
       "    <tr>\n",
       "      <th>25%</th>\n",
       "      <td>1491.000000</td>\n",
       "      <td>1.000000</td>\n",
       "      <td>2.000000</td>\n",
       "      <td>1.000000</td>\n",
       "      <td>1.000000</td>\n",
       "      <td>1.000000</td>\n",
       "      <td>1.000000</td>\n",
       "      <td>0.000000</td>\n",
       "      <td>1.000000</td>\n",
       "      <td>3.000000e+01</td>\n",
       "      <td>0.000000</td>\n",
       "      <td>55.000000</td>\n",
       "    </tr>\n",
       "    <tr>\n",
       "      <th>50%</th>\n",
       "      <td>1878.000000</td>\n",
       "      <td>1.000000</td>\n",
       "      <td>2.000000</td>\n",
       "      <td>1.000000</td>\n",
       "      <td>1.000000</td>\n",
       "      <td>1.000000</td>\n",
       "      <td>1.000000</td>\n",
       "      <td>0.000000</td>\n",
       "      <td>2.000000</td>\n",
       "      <td>1.125000e+03</td>\n",
       "      <td>4.000000</td>\n",
       "      <td>75.000000</td>\n",
       "    </tr>\n",
       "    <tr>\n",
       "      <th>75%</th>\n",
       "      <td>2276.000000</td>\n",
       "      <td>2.000000</td>\n",
       "      <td>4.000000</td>\n",
       "      <td>1.000000</td>\n",
       "      <td>1.000000</td>\n",
       "      <td>2.000000</td>\n",
       "      <td>1.000000</td>\n",
       "      <td>10.000000</td>\n",
       "      <td>3.000000</td>\n",
       "      <td>1.125000e+03</td>\n",
       "      <td>15.000000</td>\n",
       "      <td>105.000000</td>\n",
       "    </tr>\n",
       "    <tr>\n",
       "      <th>max</th>\n",
       "      <td>4041.000000</td>\n",
       "      <td>661.000000</td>\n",
       "      <td>16.000000</td>\n",
       "      <td>8.000000</td>\n",
       "      <td>10.000000</td>\n",
       "      <td>16.000000</td>\n",
       "      <td>16.000000</td>\n",
       "      <td>281.000000</td>\n",
       "      <td>1000.000000</td>\n",
       "      <td>1.000000e+09</td>\n",
       "      <td>488.000000</td>\n",
       "      <td>999.000000</td>\n",
       "    </tr>\n",
       "  </tbody>\n",
       "</table>\n",
       "</div>"
      ],
      "text/plain": [
       "       host_seniority  host_listings_count  accommodates     bathrooms  \\\n",
       "count    44196.000000         44196.000000  44196.000000  44196.000000   \n",
       "mean      1894.278057             5.068626      3.025568      1.092282   \n",
       "std        540.047479            22.967475      1.469139      0.376639   \n",
       "min        902.000000             0.000000      1.000000      0.000000   \n",
       "25%       1491.000000             1.000000      2.000000      1.000000   \n",
       "50%       1878.000000             1.000000      2.000000      1.000000   \n",
       "75%       2276.000000             2.000000      4.000000      1.000000   \n",
       "max       4041.000000           661.000000     16.000000      8.000000   \n",
       "\n",
       "           bedrooms          beds  guests_included  extra_people  \\\n",
       "count  44196.000000  44196.000000     44196.000000  44196.000000   \n",
       "mean       1.048941      1.675265         1.377885      5.415015   \n",
       "std        0.794755      1.022293         0.863012     12.481719   \n",
       "min        0.000000      1.000000         1.000000      0.000000   \n",
       "25%        1.000000      1.000000         1.000000      0.000000   \n",
       "50%        1.000000      1.000000         1.000000      0.000000   \n",
       "75%        1.000000      2.000000         1.000000     10.000000   \n",
       "max       10.000000     16.000000        16.000000    281.000000   \n",
       "\n",
       "       minimum_nights  maximum_nights  number_of_reviews         price  \n",
       "count    44196.000000    4.419600e+04       44196.000000  44196.000000  \n",
       "mean         3.388655    2.359273e+04          14.593787     94.205788  \n",
       "std         11.631600    4.756963e+06          29.166005     73.111857  \n",
       "min          1.000000    1.000000e+00           0.000000      0.000000  \n",
       "25%          1.000000    3.000000e+01           0.000000     55.000000  \n",
       "50%          2.000000    1.125000e+03           4.000000     75.000000  \n",
       "75%          3.000000    1.125000e+03          15.000000    105.000000  \n",
       "max       1000.000000    1.000000e+09         488.000000    999.000000  "
      ]
     },
     "execution_count": 183,
     "metadata": {},
     "output_type": "execute_result"
    }
   ],
   "source": [
    "train[num_columns].describe()"
   ]
  },
  {
   "cell_type": "markdown",
   "metadata": {},
   "source": [
    "We can spot some curious facts such as \n",
    "* `host_listings` has some really high values: some hosts have up to 661 apartments announced! The variable seems to be bery right-skewed as the mean is above the median and there are some values that are difficult to understand ;\n",
    "* `guests_included` is also very right-skewed ;\n",
    "* `extra_people` has max at 281 (?!) ;\n",
    "* `maximum_nights` has a very large max (it could just be a value by default). Same for `minimum nights`...\n",
    "* `number_of_reviews` has a min at 0. As we mentionned, it may be the case of properties never rented at the time when the webscraping was made. So no illogical outliers, but is still right-skewed.\n",
    "* minimum `price` is 0\n",
    "\n",
    "What we can do is to **log(x+0.1)-transform** our variables so that huge values don't have that much influence and we have features closer to normal distribution."
   ]
  },
  {
   "cell_type": "code",
   "execution_count": 184,
   "metadata": {
    "scrolled": true
   },
   "outputs": [
    {
     "data": {
      "image/png": "[encoded data removed]",
      "text/plain": [
       "<Figure size 720x720 with 12 Axes>"
      ]
     },
     "metadata": {
      "needs_background": "light"
     },
     "output_type": "display_data"
    }
   ],
   "source": [
    "# Histograms\n",
    "train[num_columns].hist(figsize=(10,10));"
   ]
  },
  {
   "cell_type": "code",
   "execution_count": 185,
   "metadata": {},
   "outputs": [],
   "source": [
    "# Log+1 transformation\n",
    "for col in num_columns:\n",
    "    train[col] = train[col].astype('float64').replace(0.0, 1.0) # Replacing 0s with 0.1 so that we don't go to -inf\n",
    "    train[col] = np.log(train[col])\n",
    "    \n",
    "    if col != \"price\":\n",
    "        X_to_predict[col] = X_to_predict[col].astype('float64').replace(0.0, 1.0)\n",
    "        X_to_predict[col] = np.log(X_to_predict[col])"
   ]
  },
  {
   "cell_type": "code",
   "execution_count": 186,
   "metadata": {},
   "outputs": [
    {
     "data": {
      "image/png": "[encoded data removed]",
      "text/plain": [
       "<Figure size 720x720 with 12 Axes>"
      ]
     },
     "metadata": {
      "needs_background": "light"
     },
     "output_type": "display_data"
    }
   ],
   "source": [
    "# Histograms again\n",
    "train[num_columns].hist(figsize=(10,10));"
   ]
  },
  {
   "cell_type": "markdown",
   "metadata": {},
   "source": [
    "We bell-shaped some of our variables (they might be closer to normality now)."
   ]
  },
  {
   "cell_type": "markdown",
   "metadata": {},
   "source": [
    "#### first_review"
   ]
  },
  {
   "cell_type": "code",
   "execution_count": 187,
   "metadata": {},
   "outputs": [
    {
     "data": {
      "text/plain": [
       "count    32924.000000\n",
       "mean      1459.741040\n",
       "std        435.179491\n",
       "min        901.000000\n",
       "25%       1132.000000\n",
       "50%       1359.500000\n",
       "75%       1666.000000\n",
       "max       3692.000000\n",
       "Name: days_since_first_review, dtype: float64"
      ]
     },
     "execution_count": 187,
     "metadata": {},
     "output_type": "execute_result"
    }
   ],
   "source": [
    "# For train\n",
    "train.first_review = pd.to_datetime(train.first_review)\n",
    "train['days_since_first_review'] = (scrapping_date - train.first_review).astype('timedelta64[D]')\n",
    "train.days_since_first_review.describe()"
   ]
  },
  {
   "cell_type": "code",
   "execution_count": 188,
   "metadata": {},
   "outputs": [],
   "source": [
    "train.days_since_first_review = pd.cut(train.days_since_first_review, \n",
    "                                          bins=[0, 1094, 1459, 1665, train.days_since_first_review.max()], \n",
    "                                          labels=['0-3_years', '3-4_years', '4-4_5_years', '5+_years'],\n",
    "                                          include_lowest=True)\n",
    "\n",
    "train.days_since_first_review = train.days_since_first_review.astype('str')\n",
    "train.days_since_first_review.replace('nan', 'unknown', inplace=True)\n",
    "train.drop(columns=[\"first_review\"], inplace=True)"
   ]
  },
  {
   "cell_type": "code",
   "execution_count": 189,
   "metadata": {},
   "outputs": [
    {
     "data": {
      "text/plain": [
       "count    8207.000000\n",
       "mean     1459.413306\n",
       "std       435.019005\n",
       "min       903.000000\n",
       "25%      1128.000000\n",
       "50%      1359.000000\n",
       "75%      1663.000000\n",
       "max      3558.000000\n",
       "Name: days_since_first_review, dtype: float64"
      ]
     },
     "execution_count": 189,
     "metadata": {},
     "output_type": "execute_result"
    }
   ],
   "source": [
    "# For X_to_predict\n",
    "X_to_predict.first_review = pd.to_datetime(X_to_predict.first_review)\n",
    "X_to_predict['days_since_first_review'] = (scrapping_date - X_to_predict.first_review).astype('timedelta64[D]')\n",
    "X_to_predict.days_since_first_review.describe()"
   ]
  },
  {
   "cell_type": "code",
   "execution_count": 190,
   "metadata": {},
   "outputs": [],
   "source": [
    "X_to_predict.days_since_first_review = pd.cut(X_to_predict.days_since_first_review, \n",
    "                                          bins=[0, 1094, 1459, 1665, X_to_predict.days_since_first_review.max()], \n",
    "                                          labels=['0-3_years', '3-4_years', '4-4_5_years', '5+_years'],\n",
    "                                          include_lowest=True)\n",
    "\n",
    "X_to_predict.days_since_first_review = X_to_predict.days_since_first_review.astype('str')\n",
    "X_to_predict.days_since_first_review.replace('nan', 'unknown', inplace=True)\n",
    "X_to_predict.drop(columns=[\"first_review\"], inplace=True)"
   ]
  },
  {
   "cell_type": "markdown",
   "metadata": {},
   "source": [
    "#### last_review"
   ]
  },
  {
   "cell_type": "markdown",
   "metadata": {},
   "source": [
    "In fact the most recent last_review is from two years ago. This doesn't make sense so we will drop this column"
   ]
  },
  {
   "cell_type": "code",
   "execution_count": 191,
   "metadata": {},
   "outputs": [],
   "source": [
    "train.drop(columns=[\"last_review\"], inplace=True)"
   ]
  },
  {
   "cell_type": "code",
   "execution_count": 192,
   "metadata": {},
   "outputs": [],
   "source": [
    "X_to_predict.drop(columns=[\"last_review\"], inplace=True)"
   ]
  },
  {
   "cell_type": "markdown",
   "metadata": {},
   "source": [
    "#### review scores"
   ]
  },
  {
   "cell_type": "code",
   "execution_count": 193,
   "metadata": {},
   "outputs": [],
   "source": [
    "columns=['review_scores_accuracy', 'review_scores_cleanliness', 'review_scores_checkin', \n",
    "         'review_scores_communication', 'review_scores_location', 'review_scores_value']"
   ]
  },
  {
   "cell_type": "markdown",
   "metadata": {},
   "source": [
    "We recall that we have plenty of missing values for these variables, so we will carry a similar approach as we did with host_response_rate"
   ]
  },
  {
   "cell_type": "code",
   "execution_count": 194,
   "metadata": {},
   "outputs": [],
   "source": [
    "# For review_scores out of 10\n",
    "for col in columns:\n",
    "    train[col] = pd.cut(train[col], \n",
    "                        bins=[0, 9, 10],\n",
    "                        labels=['0-9%', '10%'],\n",
    "                        include_lowest=True)\n",
    "    X_to_predict[col] = pd.cut(X_to_predict[col], \n",
    "                        bins=[0, 9, 10],\n",
    "                        labels=['0-9%', '10%'],\n",
    "                        include_lowest=True)\n",
    "    \n",
    "    train[col] = train[col].astype('str')\n",
    "    X_to_predict[col] = X_to_predict[col].astype('str')\n",
    "    \n",
    "    train[col].replace('nan', 'unknown', inplace=True)\n",
    "    X_to_predict[col].replace('nan', 'unknown', inplace=True)\n",
    "\n",
    "    \n",
    "# For review_scores out of 100 (review_scores_rating)\n",
    "train.review_scores_rating = pd.cut(train.review_scores_rating, \n",
    "                                    bins=[0, 80, 95, 100],\n",
    "                                    labels=['0-79%', '80-94%', '95-100'],\n",
    "                                    include_lowest=True)\n",
    "X_to_predict.review_scores_rating = pd.cut(X_to_predict.review_scores_rating, \n",
    "                                           bins=[0, 80, 95, 100],\n",
    "                                           labels=['0-79%', '80-94%', '95-100'],\n",
    "                                           include_lowest=True)\n",
    "    \n",
    "train.review_scores_rating = train.review_scores_rating.astype('str')\n",
    "X_to_predict.review_scores_rating = X_to_predict.review_scores_rating.astype('str')\n",
    "    \n",
    "train.review_scores_rating.replace('nan', 'unknown', inplace=True)\n",
    "X_to_predict.review_scores_rating.replace('nan', 'unknown', inplace=True)"
   ]
  },
  {
   "cell_type": "markdown",
   "metadata": {},
   "source": [
    "#### cancellation_policy"
   ]
  },
  {
   "cell_type": "code",
   "execution_count": 195,
   "metadata": {},
   "outputs": [
    {
     "data": {
      "text/plain": [
       "flexible           16316\n",
       "strict             15169\n",
       "moderate           12698\n",
       "super_strict_60        8\n",
       "super_strict_30        5\n",
       "Name: cancellation_policy, dtype: int64"
      ]
     },
     "execution_count": 195,
     "metadata": {},
     "output_type": "execute_result"
    }
   ],
   "source": [
    "train.cancellation_policy.value_counts()"
   ]
  },
  {
   "cell_type": "markdown",
   "metadata": {},
   "source": [
    "The categories super_strict_60 and super_strict_30 have too few observations... We will group them with the closest policy, which is strict."
   ]
  },
  {
   "cell_type": "code",
   "execution_count": 196,
   "metadata": {},
   "outputs": [],
   "source": [
    "# Let's do some replacement\n",
    "dic = {\"super_strict_60\": \"strict\",\n",
    "       \"super_strict_30\": \"strict\"}\n",
    "\n",
    "train.replace({\"cancellation_policy\": dic}, inplace=True)\n",
    "X_to_predict.replace({\"cancellation_policy\": dic}, inplace=True)"
   ]
  },
  {
   "cell_type": "markdown",
   "metadata": {},
   "source": [
    "#### features"
   ]
  },
  {
   "cell_type": "code",
   "execution_count": 197,
   "metadata": {},
   "outputs": [
    {
     "data": {
      "text/plain": [
       "id\n",
       "10534791                           Host Has Profile Pic\n",
       "16001259                           Host Has Profile Pic\n",
       "17763072    Host Has Profile Pic,Host Identity Verified\n",
       "Name: features, dtype: object"
      ]
     },
     "execution_count": 197,
     "metadata": {},
     "output_type": "execute_result"
    }
   ],
   "source": [
    "train.features.head(3) # for every property, we have a list of all its features"
   ]
  },
  {
   "cell_type": "markdown",
   "metadata": {},
   "source": [
    "This is interesting, as it gives a lot of information on the host verified by Aribnb, and some requirements for the user when booking. We will use a similar approach as we did with amenities."
   ]
  },
  {
   "cell_type": "code",
   "execution_count": 198,
   "metadata": {},
   "outputs": [
    {
     "name": "stdout",
     "output_type": "stream",
     "text": [
      "The training dataset has 16 missing values\n",
      "The test dataset has 3 missing values\n"
     ]
    }
   ],
   "source": [
    "print(\"The training dataset has\", train.features.isna().sum(), \"missing values\")\n",
    "print(\"The test dataset has\", X_to_predict.features.isna().sum(), \"missing values\")"
   ]
  },
  {
   "cell_type": "code",
   "execution_count": 199,
   "metadata": {},
   "outputs": [],
   "source": [
    "mode = train.features.value_counts().keys()[0]\n",
    "train.features.fillna(mode, inplace=True)\n",
    "\n",
    "mode = X_to_predict.features.value_counts().keys()[0]\n",
    "X_to_predict.features.fillna(mode, inplace=True)"
   ]
  },
  {
   "cell_type": "code",
   "execution_count": 200,
   "metadata": {},
   "outputs": [],
   "source": [
    "def treat_features(df: pd.DataFrame) -> pd.DataFrame:\n",
    "    \"\"\"Treats the features variable.\n",
    "    Transforms every feature into a new column, making sure class-imbalance constraint\n",
    "    is not violated. (i.e. keep those that appear in 10%-90% of the listings).\n",
    "\n",
    "    Args:\n",
    "        df (pd.DataFrame): dataframe containing features\n",
    "    Return:\n",
    "        df (pd.DataFrame): dataframe with features decomposed\n",
    "    \"\"\"\n",
    "    if \"features\" not in list(df.columns):\n",
    "        return df\n",
    "\n",
    "    # Giant list\n",
    "    features_list = list(df.features)\n",
    "    features_list_string = \",\".join(features_list) # giant string\n",
    "    features_splitted = features_list_string.split(',')\n",
    "    features_set = set(features_splitted) # we keep unique values\n",
    "    \n",
    "    # Frequency for every feature\n",
    "    frequencies_dict = {}\n",
    "    for i in features_set:\n",
    "        frequencies_dict[i] = features_splitted.count(i) / len(features_list) * 100\n",
    "\n",
    "    # We convert to list of tuples to sort\n",
    "    print(\"The features sorted by frequency are: \\n\", sorted(frequencies_dict.items(), key=lambda k: k[1]))\n",
    "    \n",
    "    # We will keep all those that appear in no more than 90% nor less than 10% of the listings:\n",
    "    uninteresting_features = []\n",
    "    for i in frequencies_dict:\n",
    "        if frequencies_dict[i] <= 10 or frequencies_dict[i] >= 90:\n",
    "            uninteresting_features.append(i)\n",
    "\n",
    "    print(\"\\nThere are\", len(uninteresting_features), \"uninteresting_features.\")\n",
    "\n",
    "    features_set -= set(uninteresting_features)\n",
    "    print(\"\\nThe final set is of length\", len(features_set),\":\", features_set)\n",
    "    \n",
    "    # new columns\n",
    "    for i in features_set:\n",
    "        df[get_new_name(i)] = np.where(df[\"features\"].str.contains(i), 1, 0)\n",
    "    \n",
    "    # we can drop the origianl column\n",
    "    df.drop(columns=['features'], inplace=True)\n",
    "    \n",
    "    return(df)"
   ]
  },
  {
   "cell_type": "code",
   "execution_count": 201,
   "metadata": {
    "scrolled": true
   },
   "outputs": [
    {
     "name": "stdout",
     "output_type": "stream",
     "text": [
      "The features sorted by frequency are: \n",
      " [('Require Guest Profile Picture', 1.4232057199746584), ('Require Guest Phone Verification', 2.6178839714001265), ('Host Is Superhost', 5.552538691284279), ('Instant Bookable', 21.651280658883156), ('Host Identity Verified', 54.6022264458322), ('Is Location Exact', 86.7544574169608), ('Host Has Profile Pic', 99.6176124536157)]\n",
      "\n",
      "There are 4 uninteresting_features.\n",
      "\n",
      "The final set is of length 3 : {'Instant Bookable', 'Host Identity Verified', 'Is Location Exact'}\n",
      "The features sorted by frequency are: \n",
      " [('Require Guest Profile Picture', 1.40547492191806), ('Require Guest Phone Verification', 2.581297078816829), ('Host Is Superhost', 5.4565496968583505), ('Instant Bookable', 21.37607936799559), ('Host Identity Verified', 54.52875252618041), ('Is Location Exact', 86.99246738930736), ('Host Has Profile Pic', 99.6417416865699)]\n",
      "\n",
      "There are 4 uninteresting_features.\n",
      "\n",
      "The final set is of length 3 : {'Instant Bookable', 'Host Identity Verified', 'Is Location Exact'}\n"
     ]
    }
   ],
   "source": [
    "train = treat_features(train)\n",
    "X_to_predict = treat_features(X_to_predict)"
   ]
  },
  {
   "cell_type": "markdown",
   "metadata": {},
   "source": [
    "## 2.3  Creating new features"
   ]
  },
  {
   "cell_type": "markdown",
   "metadata": {},
   "source": [
    "#### descrip_mentions_pt (description mentions public transport)"
   ]
  },
  {
   "cell_type": "code",
   "execution_count": 7,
   "metadata": {},
   "outputs": [],
   "source": [
    "def detect_pt(df: pd.DataFrame) -> list:\n",
    "    \"\"\"Detects if the listing description mentions any form of public transport.\n",
    "\n",
    "    Args:\n",
    "        df (pd.DataFrame): dataframe containing descriptions\n",
    "    Return:\n",
    "        list: new binary variable (1 if public transport mentioned, 0 if not). \n",
    "    \"\"\"\n",
    "    descrip_mentions_pt = []\n",
    "    words_to_look_for = [\"metros\", \"undergrounds\", \"subways\", \"tubes\", \"lignes\", \"lines\", \n",
    "                     \"stations\", \"arrets\", \"stops\", \"bus\", \"ratp\", \"transports\"]\n",
    "\n",
    "    for i in range(len(df)):\n",
    "        descrip = df.description.iloc[i]\n",
    "        if type(descrip) == str:\n",
    "            descrip = unidecode.unidecode(descrip.lower())\n",
    "            word_found = False\n",
    "            for j in words_to_look_for:\n",
    "                if (j in descrip) or (stem(j) in descrip):\n",
    "                    word_found = True\n",
    "            if word_found == True:\n",
    "                descrip_mentions_pt.append(1)\n",
    "            else:\n",
    "                descrip_mentions_pt.append(0)\n",
    "        else:\n",
    "            descrip_mentions_pt.append(0)\n",
    "            \n",
    "    return descrip_mentions_pt"
   ]
  },
  {
   "cell_type": "code",
   "execution_count": 203,
   "metadata": {},
   "outputs": [],
   "source": [
    "train[\"descrip_mentions_pt\"] = detect_pt(train)\n",
    "X_to_predict[\"descrip_mentions_pt\"] = detect_pt(X_to_predict)\n",
    "\n",
    "train.drop(columns=[\"description\"], inplace=True)\n",
    "X_to_predict.drop(columns=[\"description\"], inplace=True)"
   ]
  },
  {
   "cell_type": "markdown",
   "metadata": {},
   "source": [
    "#### sum of distances to monuments"
   ]
  },
  {
   "cell_type": "code",
   "execution_count": 853,
   "metadata": {},
   "outputs": [
    {
     "data": {
      "text/html": [
       "<div>\n",
       "<style scoped>\n",
       "    .dataframe tbody tr th:only-of-type {\n",
       "        vertical-align: middle;\n",
       "    }\n",
       "\n",
       "    .dataframe tbody tr th {\n",
       "        vertical-align: top;\n",
       "    }\n",
       "\n",
       "    .dataframe thead th {\n",
       "        text-align: right;\n",
       "    }\n",
       "</style>\n",
       "<table border=\"1\" class=\"dataframe\">\n",
       "  <thead>\n",
       "    <tr style=\"text-align: right;\">\n",
       "      <th></th>\n",
       "      <th>latitude</th>\n",
       "      <th>longitude</th>\n",
       "      <th>weight</th>\n",
       "    </tr>\n",
       "    <tr>\n",
       "      <th>monument</th>\n",
       "      <th></th>\n",
       "      <th></th>\n",
       "      <th></th>\n",
       "    </tr>\n",
       "  </thead>\n",
       "  <tbody>\n",
       "    <tr>\n",
       "      <th>eiffel tower</th>\n",
       "      <td>48.8584</td>\n",
       "      <td>2.2945</td>\n",
       "      <td>201433</td>\n",
       "    </tr>\n",
       "    <tr>\n",
       "      <th>louvre museum</th>\n",
       "      <td>48.8606</td>\n",
       "      <td>2.3376</td>\n",
       "      <td>177105</td>\n",
       "    </tr>\n",
       "    <tr>\n",
       "      <th>notre dame</th>\n",
       "      <td>48.8530</td>\n",
       "      <td>2.3499</td>\n",
       "      <td>42060</td>\n",
       "    </tr>\n",
       "    <tr>\n",
       "      <th>arc de triomphe</th>\n",
       "      <td>48.8738</td>\n",
       "      <td>2.2950</td>\n",
       "      <td>123933</td>\n",
       "    </tr>\n",
       "    <tr>\n",
       "      <th>sacre coeur</th>\n",
       "      <td>48.8867</td>\n",
       "      <td>2.3431</td>\n",
       "      <td>72946</td>\n",
       "    </tr>\n",
       "  </tbody>\n",
       "</table>\n",
       "</div>"
      ],
      "text/plain": [
       "                 latitude  longitude  weight\n",
       "monument                                    \n",
       "eiffel tower      48.8584     2.2945  201433\n",
       "louvre museum     48.8606     2.3376  177105\n",
       "notre dame        48.8530     2.3499   42060\n",
       "arc de triomphe   48.8738     2.2950  123933\n",
       "sacre coeur       48.8867     2.3431   72946"
      ]
     },
     "execution_count": 853,
     "metadata": {},
     "output_type": "execute_result"
    }
   ],
   "source": [
    "coordinates = pd.read_csv(\"paris_monuments.csv\", sep=\";\")\n",
    "coordinates.set_index(\"monument\", inplace=True)\n",
    "coordinates.head()"
   ]
  },
  {
   "cell_type": "code",
   "execution_count": 854,
   "metadata": {},
   "outputs": [],
   "source": [
    "def dist_btw_coordinates(lat1, lon1, lat2, lon2): \n",
    "    lat1 = radians(lat1)\n",
    "    lon1 = radians(lon1)\n",
    "    lat2 = radians(lat2)\n",
    "    lon2 = radians(lon2)\n",
    "    \n",
    "    dlon = lon2 - lon1\n",
    "    dlat = lat2 - lat1\n",
    "    a = sin(dlat / 2)**2 + cos(lat1) * cos(lat2) * sin(dlon / 2)**2\n",
    "    c = 2 * atan2(sqrt(a), sqrt(1 - a))\n",
    "    distance = 6373.0 * c\n",
    "    return(distance)"
   ]
  },
  {
   "cell_type": "code",
   "execution_count": 855,
   "metadata": {},
   "outputs": [],
   "source": [
    "def compute_list_dist(listing_lat, listing_long, df):\n",
    "    list_dists = list()\n",
    "    for i in range(len(df)):\n",
    "        lat2 = df.iloc[i].latitude\n",
    "        lon2 = df.iloc[i].longitude\n",
    "        weight = df.iloc[i].weight\n",
    "        list_dists.append(dist_btw_coordinates(listing_lat, listing_long, lat2, lon2)*weight)\n",
    "    return(np.array(list_dists).sum())"
   ]
  },
  {
   "cell_type": "code",
   "execution_count": 856,
   "metadata": {},
   "outputs": [],
   "source": [
    "def sum_distances_for_df(df):\n",
    "    list_distances = []\n",
    "    for i in range(len(df)):\n",
    "        listing_lat = df.latitude_airbnb.iloc[i]\n",
    "        listing_long = df.longitude_airbnb.iloc[i]\n",
    "        list_distances.append(np.sum(compute_list_dist(listing_lat, listing_long, coordinates)))\n",
    "    return(list_distances)"
   ]
  },
  {
   "cell_type": "code",
   "execution_count": 857,
   "metadata": {},
   "outputs": [],
   "source": [
    "train[\"monument_distances\"] = sum_distances_for_df(train)\n",
    "X_to_predict[\"monument_distances\"] = sum_distances_for_df(X_to_predict)"
   ]
  },
  {
   "cell_type": "code",
   "execution_count": 858,
   "metadata": {
    "scrolled": true
   },
   "outputs": [
    {
     "data": {
      "image/png": "[encoded data removed]",
      "text/plain": [
       "<Figure size 432x288 with 1 Axes>"
      ]
     },
     "metadata": {
      "needs_background": "light"
     },
     "output_type": "display_data"
    }
   ],
   "source": [
    "train.monument_distances.hist();"
   ]
  },
  {
   "cell_type": "markdown",
   "metadata": {},
   "source": [
    "#### distance to the center"
   ]
  },
  {
   "cell_type": "code",
   "execution_count": 859,
   "metadata": {},
   "outputs": [],
   "source": [
    "def distances_to_center(df):\n",
    "    lat_center = 48.856600\n",
    "    lon_center = 2.352200\n",
    "    list_distances = []\n",
    "    for i in range(len(df)):\n",
    "        listing_lat = df.latitude_airbnb.iloc[i]\n",
    "        listing_long = df.longitude_airbnb.iloc[i]\n",
    "        list_distances.append(dist_btw_coordinates(lat_center, lon_center, listing_lat, listing_long))\n",
    "    return(list_distances)"
   ]
  },
  {
   "cell_type": "code",
   "execution_count": 860,
   "metadata": {},
   "outputs": [],
   "source": [
    "train[\"distance_to_center\"] = distances_to_center(train)\n",
    "X_to_predict[\"distance_to_center\"] = distances_to_center(X_to_predict)"
   ]
  },
  {
   "cell_type": "code",
   "execution_count": 861,
   "metadata": {},
   "outputs": [
    {
     "data": {
      "image/png": "[encoded data removed]",
      "text/plain": [
       "<Figure size 432x288 with 1 Axes>"
      ]
     },
     "metadata": {
      "needs_background": "light"
     },
     "output_type": "display_data"
    }
   ],
   "source": [
    "train.distance_to_center.hist();"
   ]
  },
  {
   "cell_type": "markdown",
   "metadata": {},
   "source": [
    "#### subway_distances"
   ]
  },
  {
   "cell_type": "code",
   "execution_count": 862,
   "metadata": {},
   "outputs": [
    {
     "data": {
      "text/html": [
       "<div>\n",
       "<style scoped>\n",
       "    .dataframe tbody tr th:only-of-type {\n",
       "        vertical-align: middle;\n",
       "    }\n",
       "\n",
       "    .dataframe tbody tr th {\n",
       "        vertical-align: top;\n",
       "    }\n",
       "\n",
       "    .dataframe thead th {\n",
       "        text-align: right;\n",
       "    }\n",
       "</style>\n",
       "<table border=\"1\" class=\"dataframe\">\n",
       "  <thead>\n",
       "    <tr style=\"text-align: right;\">\n",
       "      <th></th>\n",
       "      <th>latitude</th>\n",
       "      <th>longitude</th>\n",
       "      <th>nb_visiteurs</th>\n",
       "      <th>weight</th>\n",
       "    </tr>\n",
       "    <tr>\n",
       "      <th>station</th>\n",
       "      <th></th>\n",
       "      <th></th>\n",
       "      <th></th>\n",
       "      <th></th>\n",
       "    </tr>\n",
       "  </thead>\n",
       "  <tbody>\n",
       "    <tr>\n",
       "      <th>gare du nord</th>\n",
       "      <td>48.881154</td>\n",
       "      <td>2.357913</td>\n",
       "      <td>49721477</td>\n",
       "      <td>0.134826</td>\n",
       "    </tr>\n",
       "    <tr>\n",
       "      <th>saint lazare</th>\n",
       "      <td>48.875376</td>\n",
       "      <td>2.325810</td>\n",
       "      <td>45666162</td>\n",
       "      <td>0.123829</td>\n",
       "    </tr>\n",
       "    <tr>\n",
       "      <th>garde de lyon</th>\n",
       "      <td>48.844895</td>\n",
       "      <td>2.371529</td>\n",
       "      <td>34971365</td>\n",
       "      <td>0.094829</td>\n",
       "    </tr>\n",
       "  </tbody>\n",
       "</table>\n",
       "</div>"
      ],
      "text/plain": [
       "                latitude  longitude  nb_visiteurs    weight\n",
       "station                                                    \n",
       "gare du nord   48.881154   2.357913      49721477  0.134826\n",
       "saint lazare   48.875376   2.325810      45666162  0.123829\n",
       "garde de lyon  48.844895   2.371529      34971365  0.094829"
      ]
     },
     "execution_count": 862,
     "metadata": {},
     "output_type": "execute_result"
    }
   ],
   "source": [
    "metros = pd.read_csv(\"metro_stations.csv\", sep=\";\")\n",
    "metros.set_index(\"station\", inplace=True)\n",
    "metros.head(3)"
   ]
  },
  {
   "cell_type": "code",
   "execution_count": 863,
   "metadata": {},
   "outputs": [],
   "source": [
    "def min_distance(df):\n",
    "    list_distances = []\n",
    "    for i in range(len(df)):\n",
    "        listing_lat = df.latitude_airbnb.iloc[i]\n",
    "        listing_long = df.longitude_airbnb.iloc[i]\n",
    "        list_distances.append(np.min(compute_list_dist(listing_lat, listing_long, metros)))\n",
    "    return(list_distances)"
   ]
  },
  {
   "cell_type": "code",
   "execution_count": 864,
   "metadata": {},
   "outputs": [],
   "source": [
    "train[\"distance_to_closest_station\"] = min_distance(train)\n",
    "X_to_predict[\"distance_to_closest_station\"] = min_distance(X_to_predict)"
   ]
  },
  {
   "cell_type": "code",
   "execution_count": 865,
   "metadata": {},
   "outputs": [],
   "source": [
    "# dropping unnecessary columns\n",
    "train.drop(columns=[\"latitude_airbnb\"], inplace=True)\n",
    "X_to_predict.drop(columns=[\"latitude_airbnb\"], inplace=True)\n",
    "\n",
    "train.drop(columns=[\"longitude_airbnb\"], inplace=True)\n",
    "X_to_predict.drop(columns=[\"longitude_airbnb\"], inplace=True)"
   ]
  },
  {
   "cell_type": "markdown",
   "metadata": {},
   "source": [
    "# 4. Models"
   ]
  },
  {
   "cell_type": "markdown",
   "metadata": {},
   "source": [
    "## 4.0 Model preparation"
   ]
  },
  {
   "cell_type": "code",
   "execution_count": 204,
   "metadata": {},
   "outputs": [],
   "source": [
    "# removing [, ] or < from column names\n",
    "import re\n",
    "regex = re.compile(r\"\\[|\\]|<\", re.IGNORECASE)\n",
    "train.columns = [regex.sub(\"_\", col) if any(x in str(col) for x in set(('[', ']', '<'))) else col for col in train.columns.values]\n",
    "X_to_predict.columns = [regex.sub(\"_\", col) if any(x in str(col) for x in set(('[', ']', '<'))) else col for col in X_to_predict.columns.values]\n",
    "\n",
    "# Separating X and y\n",
    "X = train.drop('price', axis=1)\n",
    "y = train.price"
   ]
  },
  {
   "cell_type": "markdown",
   "metadata": {},
   "source": [
    "### Encoding categorical variables\n",
    "The goal here is to transform categorical variables into numerical so that they are suitable to be used in machine learning techniques. After some research, I realized there are many ways to encode, adapted to different kinds of issues such as high cardinality, ordered or nominal, etc. <br>\n",
    "In our case we don't have any variable with a lot of modalities (more than 1000) so we don't need to worry about high cardinality issues, but we still have some categorical feautres that seem really important to determine the price, so we must still be careful if we want to do it right. Plus after all the cleaning we did it would be a pitty to waste the job! <br>\n",
    "The thing is that many articles in the litterature have shown that the type of encoding that we use should depend on the type of model that we intend to implement. For instance, some boosting models (such as CatBoost) are able to operate with categorical features directly, whereas neural networks or linear models require these features to be previously transformed to a numerical version (one dummy for every modality, for instance). Besides, for a tree-based model, **some papers suggest that a single level of a one-hot-encoded categorical variable must have a very high importance score (which is measured by how much it decreases tree impurity) in order to be selected for splitting at an early stage (i.e. closer to the root), over a continuous variable**. (And so, because continuous variables would be more likely to be selected from the beggining, it could happen that the subsequent branches are impure and that even if we include categorical features at a later stage, it is already too late for obtianing an optimal performance...).\n",
    "\n",
    "Taking all this into account, in what follows we will: ordinally encode multinomial **hierarchical** categorical features, one-hot encode simple ones (0 or 1), or keep categorical features for CatBoost (which will use one_hot_max_size encoding itself)."
   ]
  },
  {
   "cell_type": "code",
   "execution_count": 205,
   "metadata": {
    "scrolled": true
   },
   "outputs": [],
   "source": [
    "# One-Hot encoding\n",
    "X = pd.get_dummies(X, columns=['neighbourhood_cleansed', 'property_type', 'room_type', 'bed_type',\n",
    "                               'cancellation_policy'])\n",
    "X_to_predict = pd.get_dummies(X_to_predict, columns=['neighbourhood_cleansed', 'property_type', 'room_type', \n",
    "                                                     'bed_type', 'cancellation_policy'])"
   ]
  },
  {
   "cell_type": "code",
   "execution_count": null,
   "metadata": {},
   "outputs": [],
   "source": [
    "## Label encoding\n",
    "le = LabelEncoder()\n",
    "cols_to_label = ['host_response_time', 'host_response_rate', 'security_deposit', 'cleaning_fee',\n",
    "                 'review_scores_rating', 'review_scores_accuracy', 'review_scores_cleanliness', 'review_scores_checkin',\n",
    "                 'review_scores_communication', 'review_scores_location', 'review_scores_value', 'days_since_first_review']\n",
    "\n",
    "X[cols_to_label] = X[cols_to_label].apply(lambda col: le.fit_transform(col))\n",
    "X_to_predict[cols_to_label] = X_to_predict[cols_to_label].apply(lambda col: le.fit_transform(col))"
   ]
  },
  {
   "cell_type": "markdown",
   "metadata": {},
   "source": [
    "### Scaling"
   ]
  },
  {
   "cell_type": "code",
   "execution_count": 210,
   "metadata": {},
   "outputs": [],
   "source": [
    "# Standard scaling\n",
    "scaler = StandardScaler()\n",
    "X = pd.DataFrame(scaler.fit_transform(X), columns=list(X.columns))\n",
    "X_to_predict = pd.DataFrame(scaler.transform(X_to_predict), columns=list(X_to_predict.columns))"
   ]
  },
  {
   "cell_type": "code",
   "execution_count": 211,
   "metadata": {},
   "outputs": [],
   "source": [
    "# Splitting into train and test sets\n",
    "X_train, X_test, y_train, y_test = train_test_split(X, y, test_size=0.2, random_state=123)"
   ]
  },
  {
   "cell_type": "markdown",
   "metadata": {},
   "source": [
    "### Useful functions"
   ]
  },
  {
   "cell_type": "code",
   "execution_count": 212,
   "metadata": {},
   "outputs": [],
   "source": [
    "# Function to evaluate model performances\n",
    "def model_evaluation(model, X_train, X_test, y_test):\n",
    "    predicted_train = np.exp(model.predict(X_train.values))\n",
    "    predicted_test = np.exp(model.predict(X_test.values))\n",
    "    train_RMSE = round(np.sqrt(mean_squared_error(np.exp(y_train), predicted_train)), 4)\n",
    "    validation_RMSE = round(np.sqrt(mean_squared_error(np.exp(y_test), predicted_test)), 4)\n",
    "    print(\"Training RMSE:\", train_RMSE)\n",
    "    print(\"Validation RMSE:\", validation_RMSE)\n",
    "    if train_RMSE < validation_RMSE:\n",
    "        print(\"We overfit...\")\n",
    "    else:\n",
    "        print(\"We don't overfit!\")\n",
    "    return((train_RMSE, validation_RMSE))"
   ]
  },
  {
   "cell_type": "code",
   "execution_count": 213,
   "metadata": {},
   "outputs": [],
   "source": [
    "# Preparing for submission\n",
    "def create_csv(kaggle_prediction):\n",
    "    csvData = [['Id', 'Predicted']]\n",
    "    for i, j in zip(range(len(indices)), range(len(kaggle_prediction))):\n",
    "        csvData.append([indices[i], kaggle_prediction[j]])\n",
    "    \n",
    "    with open('submission_airbnb.csv', 'w') as csvFile:\n",
    "        writer = csv.writer(csvFile)\n",
    "        writer.writerows(csvData)\n",
    "    csvFile.close()"
   ]
  },
  {
   "cell_type": "markdown",
   "metadata": {},
   "source": [
    "## 4.1. XGBoost"
   ]
  },
  {
   "cell_type": "markdown",
   "metadata": {},
   "source": [
    "For the past recent years, XGBoost has been the king algorithm delivering fast and high performance for regression problems."
   ]
  },
  {
   "cell_type": "markdown",
   "metadata": {},
   "source": [
    "### 4.1.1 First run"
   ]
  },
  {
   "cell_type": "code",
   "execution_count": 214,
   "metadata": {},
   "outputs": [
    {
     "name": "stdout",
     "output_type": "stream",
     "text": [
      "Training RMSE: 44.9145\n",
      "Validation RMSE: 45.4166\n",
      "We overfit...\n"
     ]
    }
   ],
   "source": [
    "# Model\n",
    "xgb_reg = xgb.XGBRegressor(objective=\"reg:squarederror\",\n",
    "                           nthread=4,\n",
    "                           seed=1139)\n",
    "xgb_reg.fit(X_train.values, y_train.values)\n",
    "\n",
    "# Prediction results\n",
    "(train_RMSE, validation_RMSE) = model_evaluation(xgb_reg, X_train, X_test, y_test)\n",
    "first_RMSE = train_RMSE"
   ]
  },
  {
   "cell_type": "code",
   "execution_count": 610,
   "metadata": {
    "scrolled": true
   },
   "outputs": [
    {
     "data": {
      "image/png": "[encoded data removed]",
      "text/plain": [
       "<Figure size 576x1440 with 1 Axes>"
      ]
     },
     "metadata": {
      "needs_background": "light"
     },
     "output_type": "display_data"
    }
   ],
   "source": [
    "# Feature importances\n",
    "ft_weights_xgb_reg = pd.DataFrame(xgb_reg.feature_importances_, columns=['weight'], index=X_train.columns)\n",
    "ft_weights_xgb_reg.sort_values('weight', inplace=True)\n",
    "plt.figure(figsize=(8,20))\n",
    "plt.barh(ft_weights_xgb_reg.index, ft_weights_xgb_reg.weight, align='center') \n",
    "plt.title(\"Feature importances in the XGBoost model\", fontsize=14)\n",
    "plt.xlabel(\"Feature importance\")\n",
    "plt.margins(y=0.01)\n",
    "plt.show()"
   ]
  },
  {
   "cell_type": "markdown",
   "metadata": {},
   "source": [
    "### 4.1.2 Simple parameter tunning using $k$-fold CV ($k$=5)"
   ]
  },
  {
   "cell_type": "markdown",
   "metadata": {},
   "source": [
    "General parameters:\n",
    "* booster (default: gbtree): type of model. Default gbtree performs always better than gblinear.\n",
    "* seed: used for reproducible results, useful for parameter tunning.\n",
    "* nthread: number of cores in the system, useful for parallel computing\n",
    "\n",
    "Parameters we will tune:\n",
    "* n_estimators: number of trees to fit\n",
    "* max_depth: maximum depth of a tree. Will be used to control over-fitting (higher depth => more specific tree).\n",
    "* eta (i.e. learning rate): how much do we retain from weights of previous step at every new step.\n",
    "* min_child_weight:  minimum sum of weights (of all observations) required in a child. Will be used to control over-fitting\n",
    "* subsample (default 1): fraction of observations to be randomly sampled for each tree. Will be used to control over-fitting.\n",
    "* colsample_bytree (default=1): similar to max_features in GBM: fraction of columns to be randomly sampled for each tree.\n",
    "\n",
    "Other parameters redundant with what we already used (max_leaf_nodes, colsample_bylevel) or for which default value is okay (gamma, max_delta_step, etc.) won't be included.\n",
    "\n",
    "In order to tune correctly, we will first tune the parameters that might have higher impact on the model performance. Ordered, these are: number of trees, max_depth and min_child_weight. Once those are fixed, we will tune the rest."
   ]
  },
  {
   "cell_type": "code",
   "execution_count": 611,
   "metadata": {},
   "outputs": [
    {
     "name": "stdout",
     "output_type": "stream",
     "text": [
      "We obtained an optimal number of estimators of 420 for a learning rate of 0.1.\n"
     ]
    }
   ],
   "source": [
    "# Step 1: Optimal n_estimators\n",
    "\n",
    "# We start by fixing the rest\n",
    "xgb1 = xgb.XGBRegressor(\n",
    "    n_estimators=1000,\n",
    "    eta=0.1,\n",
    "    max_depth=5,\n",
    "    min_child_weight=1,\n",
    "    subsample=0.8,\n",
    "    colsample_bytree=0.8,\n",
    "    objective= 'reg:squarederror',\n",
    "    nthread=4,\n",
    "    seed=1139)\n",
    "\n",
    "# Optimal nb_trees\n",
    "xgtrain = xgb.DMatrix(X_train.values, label=y_train.values)\n",
    "cv_folds = 5\n",
    "cvresult = xgb.cv(xgb1.get_xgb_params(), \n",
    "                  xgtrain, \n",
    "                  num_boost_round = xgb1.get_xgb_params()['n_estimators'], \n",
    "                  nfold = cv_folds, \n",
    "                  early_stopping_rounds = 50)\n",
    "# num_boost_round: Number of boosting iterations (number of trees)\n",
    "# early_stopping_rounds=50: RMSE (CV metric) needs to improve at least once in 50 round to continue training\n",
    "\n",
    "opt_n_estimators = cvresult.shape[0]\n",
    "print(\"We obtained an optimal number of estimators of\", opt_n_estimators, \"for a learning rate of 0.1.\")\n",
    "xgb1.set_params(n_estimators = opt_n_estimators);"
   ]
  },
  {
   "cell_type": "code",
   "execution_count": 1,
   "metadata": {},
   "outputs": [
    {
     "ename": "NameError",
     "evalue": "name 'GridSearchCV' is not defined",
     "output_type": "error",
     "traceback": [
      "\u001b[0;31m---------------------------------------------------------------------------\u001b[0m",
      "\u001b[0;31mNameError\u001b[0m                                 Traceback (most recent call last)",
      "\u001b[0;32m<ipython-input-1-8b0e87cf4cf2>\u001b[0m in \u001b[0;36m<module>\u001b[0;34m\u001b[0m\n\u001b[1;32m      7\u001b[0m }\n\u001b[1;32m      8\u001b[0m \u001b[0;34m\u001b[0m\u001b[0m\n\u001b[0;32m----> 9\u001b[0;31m gsearch1 = GridSearchCV(estimator = xgb.XGBRegressor(n_estimators=opt_n_estimators,\n\u001b[0m\u001b[1;32m     10\u001b[0m                                                      \u001b[0meta\u001b[0m\u001b[0;34m=\u001b[0m\u001b[0;36m0.1\u001b[0m\u001b[0;34m,\u001b[0m\u001b[0;34m\u001b[0m\u001b[0;34m\u001b[0m\u001b[0m\n\u001b[1;32m     11\u001b[0m                                                      \u001b[0mmax_depth\u001b[0m\u001b[0;34m=\u001b[0m\u001b[0;36m5\u001b[0m\u001b[0;34m,\u001b[0m\u001b[0;34m\u001b[0m\u001b[0;34m\u001b[0m\u001b[0m\n",
      "\u001b[0;31mNameError\u001b[0m: name 'GridSearchCV' is not defined"
     ]
    }
   ],
   "source": [
    "# Step 2: Optimal max_depth and min_child_weight (this can take some time)\n",
    "\n",
    "# A) Wider ranges at first\n",
    "param_test1 = {\n",
    " 'max_depth':range(3,10,2),\n",
    " 'min_child_weight':range(1,6,2)\n",
    "}\n",
    "\n",
    "gsearch1 = GridSearchCV(estimator = xgb.XGBRegressor(n_estimators=opt_n_estimators,\n",
    "                                                     eta=0.1,\n",
    "                                                     max_depth=5,\n",
    "                                                     min_child_weight=1, \n",
    "                                                     subsample=0.8, \n",
    "                                                     colsample_bytree=0.8,\n",
    "                                                     objective='reg:squarederror', \n",
    "                                                     nthread=4, \n",
    "                                                     seed=1139),\n",
    "                        param_grid = param_test1,\n",
    "                        scoring = 'neg_mean_squared_error',\n",
    "                        n_jobs = -1,\n",
    "                        cv = 5)\n",
    "\n",
    "gsearch1.fit(X_train.values, y_train.values)\n",
    "print(\"Best parameters: \", gsearch1.best_params_, \"\\nBest RMSE\", round((-gsearch1.best_score_)**(0.5), 4))\n",
    "\n",
    "opt_max_depth = gsearch1.best_params_['max_depth']\n",
    "opt_min_child_weight = gsearch1.best_params_['min_child_weight']"
   ]
  },
  {
   "cell_type": "code",
   "execution_count": null,
   "metadata": {},
   "outputs": [],
   "source": [
    "# Step 2: Optimal max_depth and min_child_weight (this can take some time)\n",
    "\n",
    "# B) Narrowing the range\n",
    "param_test2 = {\n",
    " 'max_depth':[opt_max_depth-1, opt_max_depth, opt_max_depth+1],\n",
    " 'min_child_weight':[opt_min_child_weight-1, opt_min_child_weight, opt_min_child_weight+1]\n",
    "}\n",
    "\n",
    "gsearch2 = GridSearchCV(estimator = xgb.XGBRegressor(n_estimators=opt_n_estimators,\n",
    "                                                     eta=0.1, \n",
    "                                                     max_depth=opt_max_depth,\n",
    "                                                     min_child_weight=opt_min_child_weight, \n",
    "                                                     subsample=0.8, \n",
    "                                                     colsample_bytree=0.8,\n",
    "                                                     objective='reg:squarederror', \n",
    "                                                     nthread=4,\n",
    "                                                     seed=1139), \n",
    "                        param_grid = param_test2, \n",
    "                        scoring = 'neg_mean_squared_error',\n",
    "                        n_jobs = -1, \n",
    "                        cv = 5)\n",
    "\n",
    "gsearch2.fit(X_train.values, y_train.values)\n",
    "print(\"Best parameters: \", gsearch2.best_params_, \"\\nBest RMSE\", round((-gsearch2.best_score_)**(0.5), 4))\n",
    "\n",
    "opt_max_depth = gsearch2.best_params_['max_depth']\n",
    "opt_min_child_weight = gsearch2.best_params_['min_child_weight']"
   ]
  },
  {
   "cell_type": "markdown",
   "metadata": {},
   "source": [
    "### 4.1.4 More extensive parameter tuning"
   ]
  },
  {
   "cell_type": "code",
   "execution_count": 168,
   "metadata": {},
   "outputs": [
    {
     "name": "stdout",
     "output_type": "stream",
     "text": [
      "Best parameters:  {'colsample_bytree': 0.7, 'subsample': 0.9} \n",
      "Best RMSE 0.2993\n"
     ]
    }
   ],
   "source": [
    "# Step 3: Tune subsample and colsample_bytree\n",
    "\n",
    "# A) Wider ranges at first\n",
    "param_test3 = {\n",
    "    'subsample':[i/10.0 for i in range(6,10)],\n",
    "    'colsample_bytree':[i/10.0 for i in range(6,10)]\n",
    "}\n",
    "\n",
    "gsearch3 = GridSearchCV(estimator = xgb.XGBRegressor(n_estimators=opt_n_estimators,\n",
    "                                                     eta=0.1,\n",
    "                                                     max_depth=opt_max_depth,\n",
    "                                                     min_child_weight=opt_min_child_weight,\n",
    "                                                     subsample=0.8,\n",
    "                                                     colsample_bytree=0.8,\n",
    "                                                     objective='reg:squarederror',\n",
    "                                                     nthread=4,\n",
    "                                                     seed=1139),\n",
    "                        param_grid = param_test3,\n",
    "                        scoring = 'neg_mean_squared_error',\n",
    "                        n_jobs = -1,\n",
    "                        cv = 5)\n",
    "\n",
    "gsearch3.fit(X_train.values, y_train.values)\n",
    "print(\"Best parameters: \", gsearch3.best_params_, \"\\nBest RMSE\", round((-gsearch3.best_score_)**(0.5), 4))\n",
    "\n",
    "opt_subsample = gsearch3.best_params_['subsample']\n",
    "opt_colsample_bytree = gsearch3.best_params_['colsample_bytree']"
   ]
  },
  {
   "cell_type": "code",
   "execution_count": 169,
   "metadata": {},
   "outputs": [
    {
     "name": "stdout",
     "output_type": "stream",
     "text": [
      "Best parameters:  {'colsample_bytree': 0.7, 'subsample': 0.9} \n",
      "Best RMSE 0.2993\n"
     ]
    }
   ],
   "source": [
    "# Step 3: Tune subsample and colsample_bytree\n",
    "\n",
    "# B) Narrowing the range\n",
    "param_test4 = {\n",
    "    'subsample':[i/100.0 for i in range(int(opt_subsample*100)-5, int(opt_subsample*100)+10, 5)],\n",
    "    'colsample_bytree':[i/100.0 for i in range(int(opt_colsample_bytree*100)-5, int(opt_colsample_bytree*100)+10, 5)]\n",
    "}\n",
    "\n",
    "gsearch4 = GridSearchCV(estimator = xgb.XGBRegressor(n_estimators=opt_n_estimators,\n",
    "                                                     eta=0.1,\n",
    "                                                     max_depth=opt_max_depth,\n",
    "                                                     min_child_weight=opt_min_child_weight,\n",
    "                                                     subsample=opt_subsample, \n",
    "                                                     colsample_bytree=opt_colsample_bytree,\n",
    "                                                     objective= 'reg:squarederror',\n",
    "                                                     nthread=4,\n",
    "                                                     seed=1139), \n",
    "                        param_grid = param_test4,\n",
    "                        scoring = 'neg_mean_squared_error',\n",
    "                        n_jobs = -1,\n",
    "                        cv = 5)\n",
    "\n",
    "gsearch4.fit(X_train.values, y_train.values)\n",
    "\n",
    "print(\"Best parameters: \", gsearch4.best_params_, \"\\nBest RMSE\", round((-gsearch4.best_score_)**(0.5), 4))\n",
    "\n",
    "opt_subsample = gsearch4.best_params_['subsample']\n",
    "opt_colsample_bytree = gsearch4.best_params_['colsample_bytree']"
   ]
  },
  {
   "cell_type": "markdown",
   "metadata": {},
   "source": [
    "### 4.1.4 Last run: optimized parameters"
   ]
  },
  {
   "cell_type": "code",
   "execution_count": 216,
   "metadata": {},
   "outputs": [],
   "source": [
    "opt_n_estimators = 513\n",
    "opt_min_child_weight = 4\n",
    "opt_max_depth = 5\n",
    "opt_subsample = 0.9\n",
    "opt_colsample_bytree = 0.7\n",
    "opt_reg_alpha = 1"
   ]
  },
  {
   "cell_type": "code",
   "execution_count": 217,
   "metadata": {},
   "outputs": [
    {
     "name": "stdout",
     "output_type": "stream",
     "text": [
      "Training RMSE: 32.9482\n",
      "Validation RMSE: 42.4797\n",
      "We overfit...\n",
      "Before parameter tunning we had a validation RMSE of 44.9145 and after parameter tunning an RMSE of 42.4797 which is a (substantial!) gain of 5.42 %.\n"
     ]
    }
   ],
   "source": [
    "##### Model\n",
    "xgb_reg = xgb.XGBRegressor(n_estimators=opt_n_estimators,\n",
    "                           eta=0.1,\n",
    "                           max_depth=opt_max_depth,\n",
    "                           min_child_weight=opt_min_child_weight,\n",
    "                           subsample=opt_subsample, \n",
    "                           colsample_bytree=opt_colsample_bytree,\n",
    "                           objective= 'reg:squarederror',\n",
    "                           gamma=0,\n",
    "                           nthread=4,\n",
    "                           seed=1139)\n",
    "xgb_reg.fit(X_train.values, y_train.values)\n",
    "\n",
    "# Prediction results\n",
    "(train_RMSE, validation_RMSE) = model_evaluation(xgb_reg, X_train, X_test, y_test)\n",
    "last_RMSE = validation_RMSE\n",
    "\n",
    "print(\"Before parameter tunning we had a validation RMSE of\", first_RMSE, \n",
    "      \"and after parameter tunning an RMSE of\", last_RMSE,\n",
    "      \"which is a (substantial!) gain of\",  round((first_RMSE - last_RMSE) / first_RMSE * 100, 2), \"%.\")"
   ]
  },
  {
   "cell_type": "code",
   "execution_count": 614,
   "metadata": {
    "scrolled": true
   },
   "outputs": [
    {
     "data": {
      "image/png": "[encoded data removed]",
      "text/plain": [
       "<Figure size 576x1440 with 1 Axes>"
      ]
     },
     "metadata": {
      "needs_background": "light"
     },
     "output_type": "display_data"
    }
   ],
   "source": [
    "# Feature importances\n",
    "ft_weights_xgb_reg = pd.DataFrame(xgb_reg.feature_importances_, columns=['weight'], index=X_train.columns)\n",
    "ft_weights_xgb_reg.sort_values('weight', inplace=True)\n",
    "plt.figure(figsize=(8,20))\n",
    "plt.barh(ft_weights_xgb_reg.index, ft_weights_xgb_reg.weight, align='center') \n",
    "plt.title(\"Feature importances in the XGBoost model\", fontsize=14)\n",
    "plt.xlabel(\"Feature importance\")\n",
    "plt.margins(y=0.01)\n",
    "plt.show()"
   ]
  },
  {
   "cell_type": "code",
   "execution_count": 97,
   "metadata": {},
   "outputs": [],
   "source": [
    "# Kaggle prediction\n",
    "kaggle_prediction = np.round(np.exp(xgb_reg.predict(X_to_predict.values)), 1)\n",
    "create_csv(kaggle_prediction)"
   ]
  },
  {
   "cell_type": "markdown",
   "metadata": {},
   "source": [
    "## 4.2 CatBoost"
   ]
  },
  {
   "cell_type": "markdown",
   "metadata": {},
   "source": [
    "CatBoost was launched in 2017 by a Russian tech company. The way it treats categorical variables has made it more efficient than XGBoost in some situations. Let's see if it's also the case for our problem. <br>\n",
    "We need to rerun from the beggining of the model part and not encode the categorical features, nor scale any feature."
   ]
  },
  {
   "cell_type": "markdown",
   "metadata": {},
   "source": [
    "General parameters:\n",
    "* thread_count: number of cores in the system, useful for parallel computing\n",
    "* random_seed: used for reproducible results, useful for parameter tunning.\n",
    "\n",
    "Parameters we will \"tune\":\n",
    "* iterations(default=1000): maximum number of trees that can be built (too high can lead to overfitting).\n",
    "* learning_rate (default=0.02999999933): how much do we retain from weights of previous step at every new step.\n",
    "* depth(default=6): maximum depth of a tree. Will be used to control over-fitting (higher depth => more specific tree).\n",
    "* l2_leaf_reg (default=3): l2 regularization. Will be used to control over-fitting.\n",
    "* one_hot_max_size (default=2): uses one-hot encoding for all features with number of modaltiies less than or equal to the value\n",
    "* rsm (default=1): previous colsample_bytree: fraction of columns to be randomly sampled for each tree.\n",
    "\n",
    "Here we don't have parameter to subset data (subsample), nor min_child_weight.\n",
    "\n",
    "Here we will try different values for our parameters manually not to be super extensive. We will first \"tune\" the parameters that might have higher impact on the model performance."
   ]
  },
  {
   "cell_type": "code",
   "execution_count": 890,
   "metadata": {},
   "outputs": [
    {
     "name": "stdout",
     "output_type": "stream",
     "text": [
      "Training RMSE: 19.5855\n",
      "Validation RMSE: 41.8872\n",
      "We overfit...\n"
     ]
    }
   ],
   "source": [
    "# BEST model\n",
    "categ_features = ['neighbourhood_cleansed', 'property_type', 'room_type', 'bed_type', 'cancellation_policy',\n",
    "                  'host_response_time', 'host_response_rate', 'security_deposit', 'cleaning_fee',\n",
    "                  'review_scores_rating', 'review_scores_accuracy', 'review_scores_cleanliness', 'review_scores_checkin',\n",
    "                  'review_scores_communication', 'review_scores_location', 'review_scores_value', 'days_since_first_review']\n",
    "cat_reg = cb.CatBoostRegressor(n_estimators=2000,\n",
    "                               learning_rate=0.07,\n",
    "                               depth=7,\n",
    "                               l2_leaf_reg=3,\n",
    "                               one_hot_max_size=10,\n",
    "                               rsm=1,\n",
    "                               loss_function='RMSE',\n",
    "                               cat_features=categ_features,\n",
    "                               silent=True,\n",
    "                               thread_count=-1,\n",
    "                               random_seed=1139)\n",
    "\n",
    "cat_reg.fit(X_train, y_train)\n",
    "# Prediction results\n",
    "(train_RMSE, validation_RMSE) = model_evaluation(cat_reg, X_train, X_test, y_test)\n",
    "first_RMSE = train_RMSE"
   ]
  },
  {
   "cell_type": "markdown",
   "metadata": {},
   "source": [
    "## Experimental results:\n",
    "\n",
    "##### for learning_rate=0.02 \n",
    "* depth=6 / l2_leaf_reg=3 / one_hot_max_size=2 / rsm=1 => (train_RMSE=39.5588, validation_RMSE=42.4739)\n",
    "* depth=5 / l2_leaf_reg=3 / one_hot_max_size=2 / rsm=1 => (train_RMSE=40.6128, validation_RMSE=42.6497)\n",
    "* depth=7 / l2_leaf_reg=3 / one_hot_max_size=2 / rsm=1 => (train_RMSE=38.2708, validation_RMSE=42.3555)\n",
    "* depth=8 / l2_leaf_reg=3 / one_hot_max_size=2 / rsm=1 => (train_RMSE=, validation_RMSE=42.4516)\n",
    "* depth=9 / l2_leaf_reg=3 / one_hot_max_size=2 / rsm=1 => (train_RMSE=34.9649, validation_RMSE=42.4501)\n",
    "* depth=7 / l2_leaf_reg=3 / one_hot_max_size=4 / rsm=1 => (train_RMSE=37.4872, validation_RMSE=42.1436)\n",
    "* **depth=7 / l2_leaf_reg=3 / one_hot_max_size=6 / rsm=1 => (train_RMSE=37.2428, validation_RMSE=42.0587)**\n",
    "* depth=7 / l2_leaf_reg=2 / one_hot_max_size=10 / rsm=1 => (train_RMSE=36.8441, validation_RMSE=42.1261)\n",
    "* depth=7 / l2_leaf_reg=4 / one_hot_max_size=10 / rsm=1 => (train_RMSE=37.5851, validation_RMSE=42.1562)\n",
    "* depth=7 / l2_leaf_reg=3 / one_hot_max_size=10 / rsm=0.8 => (train_RMSE=37.5851, validation_RMSE=42.1562)\n",
    "* depth=7 / l2_leaf_reg=3 / one_hot_max_size=10 / rsm=0.9 => (train_RMSE=37.2537, validation_RMSE=42.1163)\n",
    "\n",
    "##### for depth=7 / l2_leaf_reg=3 / one_hot_max_size=6 / rsm=1\n",
    "* learning_rate=0.1 => (validation_RMSE=41.9004)\n",
    "* learning_rate=0.9 => (validation_RMSE=41.7309)\n",
    "* learning_rate=0.08 => (validation_RMSE=41.705)\n",
    "* learning_rate=0.07 => (validation_RMSE=41.5497)\n",
    "* learning_rate=0.06 => (validation_RMSE=41.874)\n",
    "* learning_rate=0.075 => (validation_RMSE=41.9169)\n",
    "* learning_rate=0.065 => (validation_RMSE=41.5746)"
   ]
  },
  {
   "cell_type": "code",
   "execution_count": 757,
   "metadata": {
    "scrolled": true
   },
   "outputs": [
    {
     "data": {
      "image/png": "[encoded data removed]",
      "text/plain": [
       "<Figure size 576x1440 with 1 Axes>"
      ]
     },
     "metadata": {
      "needs_background": "light"
     },
     "output_type": "display_data"
    }
   ],
   "source": [
    "# Feature importances\n",
    "ft_weights_cat_reg = pd.DataFrame(cat_reg.feature_importances_, columns=['weight'], index=X_train.columns)\n",
    "ft_weights_cat_reg.sort_values('weight', inplace=True)\n",
    "plt.figure(figsize=(8,20))\n",
    "plt.barh(ft_weights_cat_reg.index, ft_weights_cat_reg.weight, align='center') \n",
    "plt.title(\"Feature importances in the CatBoost model\", fontsize=14)\n",
    "plt.xlabel(\"Feature importance\")\n",
    "plt.margins(y=0.01)\n",
    "plt.show()"
   ]
  },
  {
   "cell_type": "code",
   "execution_count": 889,
   "metadata": {},
   "outputs": [],
   "source": [
    "# Kaggle prediction\n",
    "kaggle_prediction = np.round(np.exp(cat_reg.predict(X_to_predict)), 1)\n",
    "create_csv(kaggle_prediction)"
   ]
  },
  {
   "cell_type": "markdown",
   "metadata": {},
   "source": [
    "## 4.3 Neural Network"
   ]
  },
  {
   "cell_type": "code",
   "execution_count": 770,
   "metadata": {},
   "outputs": [
    {
     "name": "stdout",
     "output_type": "stream",
     "text": [
      "Model: \"sequential_2\"\n",
      "_________________________________________________________________\n",
      "Layer (type)                 Output Shape              Param #   \n",
      "=================================================================\n",
      "dense_5 (Dense)              (None, 128)               10880     \n",
      "_________________________________________________________________\n",
      "dense_6 (Dense)              (None, 256)               33024     \n",
      "_________________________________________________________________\n",
      "dense_7 (Dense)              (None, 256)               65792     \n",
      "_________________________________________________________________\n",
      "dense_8 (Dense)              (None, 1)                 257       \n",
      "=================================================================\n",
      "Total params: 109,953\n",
      "Trainable params: 109,953\n",
      "Non-trainable params: 0\n",
      "_________________________________________________________________\n",
      "None\n"
     ]
    }
   ],
   "source": [
    "### Building the simple nn\n",
    "nn = Sequential()\n",
    "nn.add(Dense(128, input_shape=(X_train.shape[1],), activation='relu'))\n",
    "nn.add(Dense(256, activation='relu'))\n",
    "nn.add(Dense(256, activation='relu'))\n",
    "nn.add(Dense(1, activation='linear'))\n",
    "\n",
    "# Compiling the model\n",
    "nn.compile(loss='mean_squared_error',\n",
    "            optimizer=\"adam\",\n",
    "            metrics=['mean_squared_error'])\n",
    "\n",
    "# Model summary\n",
    "print(nn.summary())"
   ]
  },
  {
   "cell_type": "code",
   "execution_count": 771,
   "metadata": {},
   "outputs": [
    {
     "name": "stdout",
     "output_type": "stream",
     "text": [
      "Epoch 00028: early stopping\n",
      "Training RMSE: 30.166\n",
      "Validation RMSE: 50.2658\n",
      "We overfit...\n"
     ]
    }
   ],
   "source": [
    "# Training the model\n",
    "early_stopping = callbacks.EarlyStopping(monitor='val_loss', patience=15, verbose=1)\n",
    "nn_history = nn.fit(X_train.values,\n",
    "                    y_train.values,\n",
    "                    batch_size=256,\n",
    "                    epochs=100,\n",
    "                    verbose=0,\n",
    "                    callbacks=[early_stopping],\n",
    "                    validation_split=0.1)\n",
    "\n",
    "(train_RMSE, validation_RMSE) = model_evaluation(nn, X_train, X_test, y_test)"
   ]
  },
  {
   "cell_type": "code",
   "execution_count": 772,
   "metadata": {},
   "outputs": [],
   "source": [
    "# Again we have tunned manually. Below is the best model and the results from experimental trials."
   ]
  },
  {
   "cell_type": "markdown",
   "metadata": {},
   "source": [
    "## Experimental results: (100 epochs)\n",
    "\n",
    "* 4 layers (128, 256, 256, 1) / no regularization / no batchnormalization / default adam / batch_size=256 => (train_RMSE=0.2203, validation_RMSE=0.3672)\n",
    "* 4 layers (128, 256, 256, 1) / dropout=0.2 / no batchnormalization / default adam / batch_size=256 => (train_RMSE=0.2933, validation_RMSE=0.3618)\n",
    "* 4 layers (128, 256, 256, 1) / dropout=0.2 / batchnormalization / default adam / batch_size=256 => (train_RMSE=0.2795, validation_RMSE=0.3266)\n",
    "* 4 layers (128, 256, 256, 1) / dropout=0.3 / batchnormalization / default adam / batch_size=256 => (train_RMSE=0.2762, validation_RMSE=0.3177)\n",
    "* 4 layers (128, 256, 256, 1) / dropout=0.4 / batchnormalization / default adam / batch_size=256 => (train_RMSE=0.2686, validation_RMSE=0.314)\n",
    "* **4 layers (128, 256, 256, 1) / dropout=0.4 / batchnormalization / custom adam / batch_size=256 => (train_RMSE=0.2716, validation_RMSE=0.3123)**\n",
    "* 4 layers (128, 256, 256, 1) / dropout=0.45 / batchnormalization / custom adam / batch_size=256 => (train_RMSE=0.2815, validation_RMSE=0.3154)\n",
    "* 4 layers (128, 256, 256, 1) / l1=0.005 / batchnormalization / custom adam / batch_size=256 => (train_RMSE=0.3167, validation_RMSE=0.3231)\n",
    "* 4 layers (128, 256, 256, 1) / l2=0.01 / batchnormalization / custom adam / batch_size=256 => (train_RMSE=0.6249, validation_RMSE=0.6274)\n",
    "* 4 layers (128, 256, 256, 1) / l2=0.02 / batchnormalization / custom adam / batch_size=256 => (train_RMSE=0.3296, validation_RMSE=0.3391)\n",
    "* 4 layers (128, 256, 256, 1) / l2=0.03 / batchnormalization / custom adam / batch_size=256 => (train_RMSE=0.462, validation_RMSE=0.4765)\n",
    "* 5 layers (128, 256, 256, 256, 1) / dropout=0.4 / batchnormalization / custom adam / batch_size=256 => (train_RMSE=0.2795, validation_RMSE=0.3182)\n",
    "* 5 layers (128, 256, 256, 512, 1) / dropout=0.4 / batchnormalization / custom adam / batch_size=256 => (train_RMSE=0.2918, validation_RMSE=0.3253)\n",
    "* 4 layers (128, 256, 256, 1) / dropout=0.4 / batchnormalization / custom adam / batch_size=128 => (train_RMSE=0.265, validation_RMSE=0.3135)\n",
    "* 4 layers (128, 256, 256, 1) / dropout=0.4 / batchnormalization / custom adam / batch_size=512 => (train_RMSE=0.3047, validation_RMSE=0.3227)\n",
    "* 4 layers (64, 128, 256, 1) / dropout=0.4 / batchnormalization / custom adam / batch_size=512 => (train_RMSE=0.3047, validation_RMSE=0.3227)\n",
    "* 3 layers (128, 256, 1) / dropout=0.4 / batchnormalization / custom adam / batch_size=512 => (train_RMSE=0.2885, validation_RMSE=0.3214)"
   ]
  },
  {
   "cell_type": "code",
   "execution_count": 773,
   "metadata": {},
   "outputs": [
    {
     "name": "stdout",
     "output_type": "stream",
     "text": [
      "Training RMSE: 38.8206\n",
      "Validation RMSE: 43.0416\n",
      "We overfit...\n"
     ]
    }
   ],
   "source": [
    "### BEST Neural Network\n",
    "nn = Sequential()\n",
    "nn.add(Dense(128, input_shape=(X_train.shape[1],), activation='relu'))\n",
    "nn.add(Dropout(rate=0.4))\n",
    "nn.add(BatchNormalization())\n",
    "\n",
    "nn.add(Dense(256, activation='relu'))\n",
    "nn.add(Dropout(rate=0.4))\n",
    "nn.add(BatchNormalization())\n",
    "\n",
    "nn.add(Dense(256, activation='relu'))\n",
    "nn.add(Dropout(rate=0.4))\n",
    "nn.add(BatchNormalization())\n",
    "\n",
    "nn.add(Dense(1, activation='linear'))\n",
    "\n",
    "# Compiling the model\n",
    "adam = optimizers.Adam(learning_rate=0.001, beta_1=0.9, beta_2=0.999)\n",
    "nn.compile(loss='mean_squared_error',\n",
    "            optimizer=adam,\n",
    "            metrics=['mean_squared_error'])\n",
    "\n",
    "# Model summary\n",
    "# print(nn.summary())\n",
    "\n",
    "# Training the model\n",
    "early_stopping = callbacks.EarlyStopping(monitor='val_loss', patience=15, verbose=1)\n",
    "nn_history = nn.fit(X_train.values,\n",
    "                    y_train.values,\n",
    "                    batch_size=256,\n",
    "                    epochs=100,\n",
    "                    verbose=0,\n",
    "                    callbacks=[early_stopping],\n",
    "                    validation_split=0.1)\n",
    "\n",
    "(train_RMSE, validation_RMSE) = model_evaluation(nn, X_train, X_test, y_test)"
   ]
  }
 ],
 "metadata": {
  "kernelspec": {
   "display_name": "Python 3 (ipykernel)",
   "language": "python",
   "name": "python3"
  },
  "language_info": {
   "codemirror_mode": {
    "name": "ipython",
    "version": 3
   },
   "file_extension": ".py",
   "mimetype": "text/x-python",
   "name": "python",
   "nbconvert_exporter": "python",
   "pygments_lexer": "ipython3",
   "version": "3.11.7"
  }
 },
 "nbformat": 4,
 "nbformat_minor": 4
}
